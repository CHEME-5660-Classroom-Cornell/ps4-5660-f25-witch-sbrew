{
 "cells": [
  {
   "cell_type": "markdown",
   "id": "d2534105-6383-4535-a269-6af6c4d1680b",
   "metadata": {},
   "source": [
    "## PS4: Single Index Models and Minimum Variance Portfolio Allocation\n",
    "In this problem set, we will use single index models to construct a minimum variance portfolio from a set of risky assets. We will then compare the performance of portfolios constructed using only primary tickers versus those that include low-correlation twin assets. What we will learning about including low-correlation assets in a portfolio optimization context?\n",
    "\n",
    "> __Learning Objectives:__\n",
    "> \n",
    "> By the end of this example, you should be able to:\n",
    "> * __Construct SIM-based covariance matrices__ using beta coefficients and market variance rather than direct estimation from historical returns data.\n",
    "> * __Compute efficient frontiers__ for primary tickers and for primary tickers paired with low-correlation twin assets using SIM-based optimization.\n",
    "> * __Evaluate portfolio performance__ by comparing wealth trajectories of SIM-based optimized portfolios, assessing the practical value of including low-correlation assets.\n",
    "\n",
    "Let's get started!\n",
    "___"
   ]
  },
  {
   "cell_type": "markdown",
   "id": "75c1691d-25c3-4f99-836d-5f01182c7842",
   "metadata": {},
   "source": [
    "## Setup, Data, and Prerequisites\n",
    "First, we set up the computational environment by including the `Include.jl` file and loading any needed resources.\n",
    "\n",
    "> __Include:__ The [`include(...)` command](https://docs.julialang.org/en/v1/base/base/#include) evaluates the contents of the input source file, `Include.jl`, in the notebook's global scope. The `Include.jl` file sets paths, loads required external packages, etc. For additional information on functions and types used in this material, see the [Julia programming language documentation](https://docs.julialang.org/en/v1/). \n",
    "\n",
    "Let's set up our code environment:"
   ]
  },
  {
   "cell_type": "code",
   "execution_count": null,
   "id": "914fab8e-454d-4f98-bbce-bd4ec2edaf29",
   "metadata": {
    "tags": []
   },
   "outputs": [],
   "source": [
    "include(joinpath(@__DIR__, \"Include-solution.jl\")); # include the Include.jl file"
   ]
  },
  {
   "cell_type": "markdown",
   "id": "e55483b1",
   "metadata": {},
   "source": [
    "For additional information on functions and types used in this material, see the [Julia programming language documentation](https://docs.julialang.org/en/v1/) and the [VLQuantitativeFinancePackage.jl documentation](https://github.com/varnerlab/VLQuantitativeFinancePackage.jl). "
   ]
  },
  {
   "cell_type": "markdown",
   "id": "f4a165c6-1a16-4d94-8ec7-e33cc54913a4",
   "metadata": {},
   "source": [
    "### Data\n",
    "We gathered daily open-high-low-close (OHLC) data for each firm in the [S&P 500](https://en.wikipedia.org/wiki/S%26P_500) from `01-03-2025` to `09-26-2025`, along with data for several exchange-traded funds and volatility products during that time period.\n",
    "\n",
    "Let's load the `original_dataset::DataFrame` by calling [the `MyTestingMarketDataSet()` function](https://varnerlab.github.io/VLQuantitativeFinancePackage.jl/dev/data/#VLQuantitativeFinancePackage.MyTestingMarketDataSet)."
   ]
  },
  {
   "cell_type": "code",
   "execution_count": null,
   "id": "ede4f7d8-de2a-4c06-81d9-5e462afc6df2",
   "metadata": {
    "tags": []
   },
   "outputs": [],
   "source": [
    "original_dataset = MyTestingMarketDataSet() |> x-> x[\"dataset\"] # load the original dataset (testing)"
   ]
  },
  {
   "cell_type": "markdown",
   "id": "7ee23930-149c-49ee-b468-2405dfa9d786",
   "metadata": {},
   "source": [
    "Not all tickers in our dataset have the maximum number of trading days for various reasons, such as acquisition or delisting events. Let's collect only those tickers with the maximum number of trading days.\n",
    "\n",
    "First, let's compute the number of records for a firm that we know has the maximum value, e.g., `AAPL`, and save that value in the `maximum_number_trading_days::Int64` variable:"
   ]
  },
  {
   "cell_type": "code",
   "execution_count": null,
   "id": "9229500e-ccad-46db-8df4-5665fb9e2589",
   "metadata": {
    "tags": []
   },
   "outputs": [],
   "source": [
    "maximum_number_trading_days = original_dataset[\"AAPL\"] |> nrow; # maximum number of trading days in our dataset"
   ]
  },
  {
   "cell_type": "markdown",
   "id": "3a74846d-0fc9-40b3-bddc-c9fee656114b",
   "metadata": {},
   "source": [
    "Now, let's iterate through our data and collect only tickers with `maximum_number_trading_days` records. Save that data in the `dataset::Dict{String,DataFrame}` variable:"
   ]
  },
  {
   "cell_type": "code",
   "execution_count": null,
   "id": "d75b54c3-c1d7-4f93-be35-2da7e42a86f1",
   "metadata": {
    "tags": []
   },
   "outputs": [],
   "source": [
    "dataset = let\n",
    "\n",
    "    # initialize -\n",
    "    dataset = Dict{String, DataFrame}();\n",
    "\n",
    "    # iterate through the dictionary; we can't guarantee a particular order\n",
    "    for (ticker, data) ∈ original_dataset  # we get each (K, V) pair!\n",
    "        if (nrow(data) == maximum_number_trading_days) # check if ticker has maximum trading days\n",
    "            dataset[ticker] = data;\n",
    "        end\n",
    "    end\n",
    "    dataset; # return\n",
    "end;"
   ]
  },
  {
   "cell_type": "markdown",
   "id": "7d776d45-97d1-48c6-9d70-c2e6840687a7",
   "metadata": {},
   "source": [
    "Let's get a list of the firms in our cleaned dataset and sort them alphabetically. We store the sorted firm ticker symbols in the `list_of_tickers_price_data::Array{String,1}` variable:"
   ]
  },
  {
   "cell_type": "code",
   "execution_count": null,
   "id": "5c80006a-3338-4f4b-9983-f2b366af5719",
   "metadata": {
    "tags": []
   },
   "outputs": [],
   "source": [
    "list_of_tickers_price_data = keys(dataset) |> collect |> sort;"
   ]
  },
  {
   "cell_type": "markdown",
   "id": "5487bb63",
   "metadata": {},
   "source": [
    "Finally, let's load the single index model parameters that we computed in the previous example. We'll store this data in the `sim_model_parameters::Dict{String,NamedTuple}` variable. In addition, we return a few other useful variables, such as the historical market growth rate, the mean and variance of the market growth, etc."
   ]
  },
  {
   "cell_type": "code",
   "execution_count": null,
   "id": "49ce4ecd",
   "metadata": {},
   "outputs": [],
   "source": [
    "sim_model_parameters,Gₘ,Ḡₘ, Varₘ = let\n",
    "\n",
    "    # initialize -\n",
    "    path_to_sim_model_parameters = joinpath(_PATH_TO_DATA,\"SIMs-SPY-SP500-01-03-14-to-12-31-24.jld2\");\n",
    "    sim_model_parameters = JLD2.load(path_to_sim_model_parameters);\n",
    "    parameters = sim_model_parameters[\"data\"]; # return\n",
    "\n",
    "    Gₘ = sim_model_parameters[\"Gₘ\"]; # Get the past market growth rate \n",
    "    Ḡₘ = sim_model_parameters[\"Ḡₘ\"]; # mean of market growth rates\n",
    "    Varₘ = sim_model_parameters[\"Varₘ\"]; # variance of market growth\n",
    "\n",
    "    # return -\n",
    "    parameters,  Gₘ , Ḡₘ, Varₘ;\n",
    "end;"
   ]
  },
  {
   "cell_type": "code",
   "execution_count": null,
   "id": "ca9356cd",
   "metadata": {},
   "outputs": [],
   "source": [
    "Varₘ"
   ]
  },
  {
   "cell_type": "markdown",
   "id": "53168d28",
   "metadata": {},
   "source": [
    "Now let's get a list of all tickers for which we have single index model parameters:"
   ]
  },
  {
   "cell_type": "code",
   "execution_count": null,
   "id": "b03ac6ea",
   "metadata": {},
   "outputs": [],
   "source": [
    "tickers_that_we_computed_sim_data_for = keys(sim_model_parameters) |> collect |> sort;"
   ]
  },
  {
   "cell_type": "markdown",
   "id": "6c2174d2",
   "metadata": {},
   "source": [
    "We need to use only the tickers for which we have both price data and SIM parameters. We'll compute [the intersection of the two lists](https://docs.julialang.org/en/v1/base/collections/#Base.intersect) and store the result in the `list_of_tickers::Array{String,1}` variable:"
   ]
  },
  {
   "cell_type": "code",
   "execution_count": null,
   "id": "af532ea2",
   "metadata": {},
   "outputs": [],
   "source": [
    "list_of_tickers = intersect(tickers_that_we_computed_sim_data_for, list_of_tickers_price_data);"
   ]
  },
  {
   "cell_type": "markdown",
   "id": "3489f983-ddb4-4f71-9500-51167768cc14",
   "metadata": {},
   "source": [
    "### Constants\n",
    "Finally, let's set some constants we'll use later in this notebook. The comments describe the constants, their units, and permissible values:"
   ]
  },
  {
   "cell_type": "code",
   "execution_count": null,
   "id": "82ff7747-f489-4750-bd52-81b9410ac379",
   "metadata": {
    "tags": []
   },
   "outputs": [],
   "source": [
    "risk_free_rate = 0.0389; # hypothetical continuous compounded risk free rate (units: 1/year)\n",
    "Δt = (1.0/252.0); # time step for 1-trading day (units: 1/year)\n",
    "number_of_points = 301; # number of points on the efficient frontier that we want to compute\n",
    "budget_in_risky_assets = 1000.0; # budget in USD to invest in risky assets\n",
    "\n",
    "# Named constants for plotting and analysis\n",
    "const PLOT_SKIP_FACTOR = 8; # skip every N points when plotting scatter markers\n",
    "const PLOT_FONT_SIZE = 18; # font size for plot labels\n",
    "const AXIS_LIMIT_MULTIPLIER = 1.1; # multiplier for axis limits (10% padding)"
   ]
  },
  {
   "cell_type": "markdown",
   "id": "1b143a56",
   "metadata": {},
   "source": [
    "___"
   ]
  },
  {
   "cell_type": "markdown",
   "id": "c5335b23",
   "metadata": {},
   "source": [
    "## Task 1: Risk and Return Matrices For Low Correlation Ticker Pairs\n",
    "In this task, we will set up the risk and return matrices that we will use in the minimum variance portfolio allocation. We'll do two versions: one using the primary tickers and another using the primary tickers paired with their low-correlation twins.\n",
    "\n",
    "Let's start by specifying a collection of ticker symbols, e.g., `AAPL`, `MSFT`, etc., that interest you in the `my_primary_list_of_tickers::Array{String,1}` array."
   ]
  },
  {
   "cell_type": "code",
   "execution_count": null,
   "id": "a6bdcea2",
   "metadata": {},
   "outputs": [],
   "source": [
    "my_primary_list_of_tickers = [\"AAPL\", \"MSFT\", \"INTC\", \"MU\", \"AMD\", \"GS\", \"BAC\", \"WFC\", \"C\", \"F\", \"GM\", \n",
    "    \"JNJ\", \"PG\", \"UPS\", \"COST\", \"TGT\", \"WMT\", \"MRK\", \"PFE\", \"ADBE\"]; # tickers selected for portfolio"
   ]
  },
  {
   "cell_type": "markdown",
   "id": "52919b9c",
   "metadata": {},
   "source": [
    "### Compute Low-Correlation Ticker Pairs\n",
    "Now that we have our primary list of tickers, let's compute the lowest correlation twin using the correlation written in terms of the single index model parameters. The correlation between firms $i$ and $j$ ($i\\neq j$) is given by:\n",
    "$$\n",
    "\\boxed{\n",
    "\\begin{align*}\n",
    "\\rho_{ij}\n",
    "&=\\frac{\\beta_i\\beta_j\\sigma_M^2}\n",
    "{\\sqrt{\\big(\\beta_i^2\\sigma_M^2+\\sigma_{\\epsilon_i}^2\\big)\\big(\\beta_j^2\\sigma_M^2+\\sigma_{\\epsilon_j}^2\\big)}}\\\\\n",
    "\\end{align*}}\n",
    "$$\n",
    "where $\\beta_i$ and $\\beta_j$ are the single index model beta coefficients for firms $i$ and $j$, respectively, $\\sigma_{M}^2$ is the market variance, and $\\sigma_{\\epsilon_i}^2$ and $\\sigma_{\\epsilon_j}^2$ are the idiosyncratic variances for firms $i$ and $j$, respectively.\n",
    "\n",
    "First, let's compute the correlation matrix for all firms in our dataset using the SIM parameters. We'll store the correlation matrix in the `CM::Array{Float64,2}` variable:"
   ]
  },
  {
   "cell_type": "code",
   "execution_count": null,
   "id": "db607c55",
   "metadata": {},
   "outputs": [],
   "source": [
    "CM = let\n",
    "\n",
    "    # initialize -\n",
    "    number_of_tickers = length(list_of_tickers);\n",
    "    correlation_matrix = Array{Float64,2}(undef, number_of_tickers, number_of_tickers);\n",
    "    σ²ₘ = Varₘ; # market variance\n",
    "\n",
    "    for i ∈ eachindex(list_of_tickers)\n",
    "        \n",
    "        ticker_i = list_of_tickers[i];\n",
    "        data_i = sim_model_parameters[ticker_i]; # get the data for ticker i\n",
    "        βᵢ = data_i.beta; # get beta for ticker i\n",
    "        σ²_εᵢ = (Δt)*data_i.training_variance; # residual variance for ticker i\n",
    "\n",
    "        for j ∈ eachindex(list_of_tickers)\n",
    "\n",
    "            ticker_j = list_of_tickers[j];\n",
    "            data_j = sim_model_parameters[ticker_j]; # get the data for ticker j\n",
    "            βⱼ = data_j.beta; # get beta for ticker j\n",
    "            σ²_εⱼ = (Δt)*data_j.training_variance; # residual variance for ticker j\n",
    "\n",
    "            if (i == j)\n",
    "                correlation_matrix[i,j] = 1.0; # variance case\n",
    "            else\n",
    "                covariance_ij = (βᵢ*βⱼ*σ²ₘ);\n",
    "                correlation_ij = covariance_ij / sqrt( (βᵢ^2*σ²ₘ + σ²_εᵢ)*(βⱼ^2*σ²ₘ + σ²_εⱼ) );\n",
    "                correlation_matrix[i,j] = correlation_ij;\n",
    "            end\n",
    "        end\n",
    "    end\n",
    "    correlation_matrix;\n",
    "end;"
   ]
  },
  {
   "cell_type": "markdown",
   "id": "613cfacb",
   "metadata": {},
   "source": [
    "Next, let's find the lowest correlation twin for each firm in our primary list of tickers. We'll store the primary tickers and their low-correlation twins in the `my_list_of_ticker_pairs::Array{Tuple{String,String},1}` variable:"
   ]
  },
  {
   "cell_type": "code",
   "execution_count": null,
   "id": "ff63b3d8",
   "metadata": {},
   "outputs": [],
   "source": [
    "my_list_of_ticker_pairs = let\n",
    "\n",
    "    # initialize -\n",
    "    my_list_of_twin_tickers = Set{String}();\n",
    "    \n",
    "    for i ∈ eachindex(my_primary_list_of_tickers)\n",
    "\n",
    "        primary_ticker = my_primary_list_of_tickers[i];\n",
    "        primary_index = findfirst(isequal(primary_ticker), list_of_tickers);\n",
    "        correlations_with_primary = CM[primary_index, :];\n",
    "\n",
    "        # get correlations for this primary ticker\n",
    "        correlations_with_primary = CM[primary_index, :];\n",
    "        \n",
    "        # create a list of (correlation, index) pairs, excluding self\n",
    "        correlation_pairs = [(correlations_with_primary[j], j) for j in eachindex(correlations_with_primary) if j != primary_index];\n",
    "        \n",
    "        # sort by correlation ascending (lowest first)\n",
    "        sort!(correlation_pairs, by = x -> x[1]);\n",
    "        \n",
    "        # find the first unused twin\n",
    "        twin_index = nothing;\n",
    "        for (corr, idx) in correlation_pairs\n",
    "            candidate_ticker = list_of_tickers[idx];\n",
    "            if (candidate_ticker ∈ my_list_of_twin_tickers) == false && (candidate_ticker ∈ my_primary_list_of_tickers) == false\n",
    "                twin_index = idx;\n",
    "                break;\n",
    "            end\n",
    "        end\n",
    "        \n",
    "        # if we found a twin, add it to the my_list_of_tickers -\n",
    "        if twin_index !== nothing\n",
    "            twin_ticker = list_of_tickers[twin_index];\n",
    "            push!(my_list_of_twin_tickers, twin_ticker);\n",
    "        end\n",
    "    end\n",
    "    a = my_list_of_twin_tickers |> collect |> sort;\n",
    "    b = my_primary_list_of_tickers;\n",
    "    c = [(b[i], a[i]) for i ∈ eachindex(b)];\n",
    "    c;\n",
    "end;"
   ]
  },
  {
   "cell_type": "markdown",
   "id": "cce44b9f",
   "metadata": {},
   "source": [
    "Let's display the primary tickers and their low-correlation twin pairs, along with the correlation values between them:"
   ]
  },
  {
   "cell_type": "code",
   "execution_count": null,
   "id": "dca21204",
   "metadata": {},
   "outputs": [],
   "source": [
    "let\n",
    "\n",
    "    # initialize -\n",
    "    number_of_ticker_pairs = length(my_list_of_ticker_pairs);\n",
    "    df = DataFrame();\n",
    "    \n",
    "    for i ∈ 1:number_of_ticker_pairs\n",
    "\n",
    "        # get the ticker pair -\n",
    "        (ticker_1, ticker_2) = my_list_of_ticker_pairs[i];\n",
    "\n",
    "        # get indices in the master list -\n",
    "        index_1 = findfirst(isequal(ticker_1), list_of_tickers);\n",
    "        index_2 = findfirst(isequal(ticker_2), list_of_tickers);\n",
    "\n",
    "        # get correlation -\n",
    "        correlation = CM[index_1, index_2];\n",
    "\n",
    "        # add to dataframe -\n",
    "        push!(df, (primary = ticker_1, twin = ticker_2, correlation = correlation));\n",
    "    end\n",
    "    \n",
    "    pretty_table(\n",
    "        df;\n",
    "        backend = :text,\n",
    "        fit_table_in_display_vertically = false,\n",
    "        table_format = TextTableFormat(borders = text_table_borders__compact)\n",
    "    );\n",
    "end"
   ]
  },
  {
   "cell_type": "markdown",
   "id": "abd57621",
   "metadata": {},
   "source": [
    "Now combine the primary tickers and their twins into a single list for use in the next calculations. We'll save the combined ticker list (primary + twins) in the `my_list_of_twin_tickers::Array{String,1}` variable:"
   ]
  },
  {
   "cell_type": "code",
   "execution_count": null,
   "id": "2a2ae5e4",
   "metadata": {},
   "outputs": [],
   "source": [
    "my_list_of_twin_tickers = let\n",
    "\n",
    "    # initialize -\n",
    "    my_list_of_tickers = Array{String,1}();\n",
    "    for (ticker_1, ticker_2) ∈ my_list_of_ticker_pairs\n",
    "        push!(my_list_of_tickers, ticker_1);\n",
    "        push!(my_list_of_tickers, ticker_2);\n",
    "    end\n",
    "    my_list_of_tickers;\n",
    "end;"
   ]
  },
  {
   "cell_type": "markdown",
   "id": "ba8ba6d4-726d-4254-a396-39478ef6ce0c",
   "metadata": {},
   "source": [
    "### SIM-Based Risk and Return Matrices\n",
    "Now we'll compute the expected return vector and covariance matrix using the single index model for the primary list of tickers and their low-correlation twins.\n",
    "\n",
    "We'll use the SIM formula for expected returns and the SIM-derived covariance structure. Store these in the `ĝ_sim_primary::Array{Float64,1}` and `Σ̂_sim_primary::Array{Float64,2}` variables:"
   ]
  },
  {
   "cell_type": "code",
   "execution_count": null,
   "id": "6d9258a1-0c39-4721-8d8c-e67070072ff5",
   "metadata": {
    "tags": []
   },
   "outputs": [],
   "source": [
    "ĝ_sim_primary, Σ̂_sim_primary = let\n",
    "\n",
    "    # initialize -\n",
    "    local_list_of_tickers = my_primary_list_of_tickers;\n",
    "    N = length(local_list_of_tickers); # number of assets in portfolio\n",
    "    μ_sim = Array{Float64,1}(); # drift vector\n",
    "    Σ̂_sim = Array{Float64,2}(undef, N, N); # covariance matrix for *our* portfolio\n",
    "    Ḡₘ = mean(Gₘ); # average market factor -\n",
    "    σ²ₘ = var(Gₘ); # variance of market factor\n",
    "\n",
    "    # compute the expected growth rate (return) for each of our tickers -\n",
    "    for i ∈ eachindex(local_list_of_tickers)\n",
    "        ticker = local_list_of_tickers[i];\n",
    "        data = sim_model_parameters[ticker]; # get the data for this ticker\n",
    "        αᵢ = data.alpha; # get alpha\n",
    "        βᵢ = data.beta; # get beta\n",
    "        Ḡᵢ = αᵢ + βᵢ* Ḡₘ; # compute the growth rate for this ticker\n",
    "        push!(μ_sim, Ḡᵢ); # append drift value to μ_sim\n",
    "    end\n",
    "\n",
    "    # compute the covariance matrix using the single index model -\n",
    "    for i ∈ eachindex(local_list_of_tickers)\n",
    "\n",
    "        ticker_i = local_list_of_tickers[i];\n",
    "        data_i = sim_model_parameters[ticker_i]; # get the data for ticker i\n",
    "        βᵢ = data_i.beta; # get beta for ticker i\n",
    "        σ²_εᵢ = (Δt)*data_i.training_variance; # residual variance for ticker i\n",
    "\n",
    "        for j ∈ eachindex(local_list_of_tickers)\n",
    "            \n",
    "            ticker_j = local_list_of_tickers[j];\n",
    "            data_j = sim_model_parameters[ticker_j]; # get the data for ticker j\n",
    "            βⱼ = data_j.beta; # get beta for ticker j\n",
    "            σ²_εⱼ = (Δt)*data_j.training_variance; # residual variance for ticker j\n",
    "            \n",
    "            if i == j\n",
    "                Σ̂_sim[i,j] = βᵢ*βⱼ*σ²ₘ + σ²_εᵢ; # diagonal elements\n",
    "            else\n",
    "                Σ̂_sim[i,j] = βᵢ*βⱼ*σ²ₘ; # off-diagonal elements\n",
    "            end\n",
    "        end\n",
    "    end\n",
    "\n",
    "    (μ_sim, Σ̂_sim*Δt); # return\n",
    "end;"
   ]
  },
  {
   "cell_type": "markdown",
   "id": "a60e92bf",
   "metadata": {},
   "source": [
    "and the twin growth rates and covariance matrix (which we will use later) in the `ĝ_sim_twins::Array{Float64,1}` and `Σ̂_sim_twins::Array{Float64,2}` variables:"
   ]
  },
  {
   "cell_type": "code",
   "execution_count": null,
   "id": "ef5ba1cf",
   "metadata": {},
   "outputs": [],
   "source": [
    "ĝ_sim_twins, Σ̂_sim_twins = let\n",
    "\n",
    "    # initialize -\n",
    "    local_list_of_tickers = my_list_of_twin_tickers;\n",
    "    N = length(local_list_of_tickers); # number of assets in portfolio\n",
    "    μ_sim = Array{Float64,1}(); # drift vector\n",
    "    Σ̂_sim = Array{Float64,2}(undef, N, N); # covariance matrix for *our* portfolio\n",
    "    Ḡₘ = mean(Gₘ); # average market factor -\n",
    "    σ²ₘ = var(Gₘ); # variance of market factor\n",
    "\n",
    "    # TODO: Uncomment to compute the expected growth rate (return) for each of our tickers -\n",
    "    # TODO: Once you uncommented the code below, don't forget to comment out the ErrorException line\n",
    "    # throw(ErrorException(\"Ooops! Need to compute the expected growth rate (return) for each of our tickers\"));\n",
    "    compute the expected growth rate (return) for each of our tickers -\n",
    "    for i ∈ eachindex(local_list_of_tickers)\n",
    "        ticker = local_list_of_tickers[i];\n",
    "        data = sim_model_parameters[ticker]; # get the data for this ticker\n",
    "        αᵢ = data.alpha; # get alpha\n",
    "        βᵢ = data.beta; # get beta\n",
    "        Ḡᵢ = αᵢ + βᵢ* Ḡₘ; # compute the growth rate for this ticker\n",
    "        push!(μ_sim, Ḡᵢ); # append drift value to μ_sim\n",
    "    end\n",
    "\n",
    "    # TODO: Uncomment to compute the covariance matrix using the single index model -\n",
    "    # TODO: Once you uncommented the code below, don't forget to comment out the ErrorException line\n",
    "    # throw(ErrorException(\"Ooops! Need to compute the expected growth rate (return) for each of our tickers\"));\n",
    "    # compute the covariance matrix using the single index model -\n",
    "    for i ∈ eachindex(local_list_of_tickers)\n",
    "\n",
    "        ticker_i = local_list_of_tickers[i];\n",
    "        data_i = sim_model_parameters[ticker_i]; # get the data for ticker i\n",
    "        βᵢ = data_i.beta; # get beta for ticker i\n",
    "        σ²_εᵢ = (Δt)*data_i.training_variance; # residual variance for ticker i\n",
    "\n",
    "        for j ∈ eachindex(local_list_of_tickers)\n",
    "            \n",
    "            ticker_j = local_list_of_tickers[j];\n",
    "            data_j = sim_model_parameters[ticker_j]; # get the data for ticker j\n",
    "            βⱼ = data_j.beta; # get beta for ticker j\n",
    "            σ²_εⱼ = (Δt)*data_j.training_variance; # residual variance for ticker j\n",
    "            \n",
    "            if i == j\n",
    "                Σ̂_sim[i,j] = βᵢ*βⱼ*σ²ₘ + σ²_εᵢ; # diagonal elements\n",
    "            else\n",
    "                Σ̂_sim[i,j] = βᵢ*βⱼ*σ²ₘ; # off-diagonal elements\n",
    "            end\n",
    "        end\n",
    "    end\n",
    "\n",
    "    (μ_sim, Σ̂_sim*Δt); # return\n",
    "end;"
   ]
  },
  {
   "cell_type": "markdown",
   "id": "52b82f91",
   "metadata": {},
   "source": [
    "___"
   ]
  },
  {
   "cell_type": "markdown",
   "id": "401a2d24-deb1-4bbb-ba05-2f6c7611ea20",
   "metadata": {},
   "source": [
    "## Task 2: Compute the efficient frontiers for your collection of tickers\n",
    "Now we compute efficient frontiers using SIM-based optimization. We will calculate the efficient frontier for the primary tickers, and then for the primary tickers paired with low-correlation twins. This allows us to compare how the inclusion of low-correlation assets affects the efficient frontier.\n",
    "\n",
    "Build an instance of the [MyMarkowitzRiskyAssetOnlyPortfolioChoiceProblem type](https://varnerlab.github.io/VLQuantitativeFinancePackage.jl/dev/portfolio/#VLQuantitativeFinancePackage.MyMarkowitzRiskyAssetOnlyPortfolioChoiceProblem) using a custom [build(...) method](https://varnerlab.github.io/VLQuantitativeFinancePackage.jl/dev/portfolio/#VLQuantitativeFinancePackage.build-Tuple{Type{MyMarkowitzRiskyAssetOnlyPortfolioChoiceProblem},%20NamedTuple}) for the tickers in your primary list. We'll store this in the `problem_sim_primary::MyMarkowitzRiskyAssetOnlyPortfolioChoiceProblem` variable:"
   ]
  },
  {
   "cell_type": "code",
   "execution_count": null,
   "id": "8fe92cd2-dd7f-46e2-9a10-7a9f1de3f2d0",
   "metadata": {
    "tags": []
   },
   "outputs": [],
   "source": [
    "problem_sim_primary = let\n",
    "\n",
    "    # initialize -\n",
    "    local_list_of_tickers = my_primary_list_of_tickers;\n",
    "    number_of_firms = length(local_list_of_tickers);\n",
    "    wₒ = zeros(number_of_firms);\n",
    "    wₒ[1] = 1.0;\n",
    "    bounds = zeros(number_of_firms,2);\n",
    "    bounds[:,2] .= 1.0;\n",
    "\n",
    "    # Build the Markowitz problem instance -\n",
    "    problem_sim_primary = build(MyMarkowitzRiskyAssetOnlyPortfolioChoiceProblem, (\n",
    "        Σ = Σ̂_sim_primary, # sim cov matrix\n",
    "        μ = ĝ_sim_primary, # sim expected array\n",
    "        bounds = bounds,\n",
    "        initial = wₒ,\n",
    "        R = 0.0\n",
    "    ));\n",
    "\n",
    "    problem_sim_primary; # return\n",
    "end;"
   ]
  },
  {
   "cell_type": "markdown",
   "id": "8b44f2d0",
   "metadata": {},
   "source": [
    "Next, create a similar instance for the tickers in your primary list paired with their low-correlation twins. Store this in the `problem_sim_twins::MyMarkowitzRiskyAssetOnlyPortfolioChoiceProblem` variable:"
   ]
  },
  {
   "cell_type": "code",
   "execution_count": null,
   "id": "5fbced25",
   "metadata": {},
   "outputs": [],
   "source": [
    "problem_sim_twins = let\n",
    "\n",
    "    # initialize -\n",
    "    local_list_of_tickers =  my_list_of_twin_tickers;\n",
    "    number_of_firms = length(local_list_of_tickers);\n",
    "    wₒ = zeros(number_of_firms);\n",
    "    wₒ[1] = 1.0;\n",
    "    bounds = zeros(number_of_firms,2);\n",
    "    bounds[:,2] .= 1.0;\n",
    "    \n",
    "\n",
    "    # TODO: Build the Markowitz problem instance for the twin tickers. Once done, don't forget to comment out the ErrorException line\n",
    "    # throw(ErrorException(\"Ooops! Need to build the Markowitz problem instance for the twin tickers\"));\n",
    "    \n",
    "    # Build the Markowitz problem instance -\n",
    "    problem_sim_twins = build(MyMarkowitzRiskyAssetOnlyPortfolioChoiceProblem, (\n",
    "        Σ = Σ̂_sim_twins, # sim cov matrix\n",
    "        μ = ĝ_sim_twins, # sim expected array\n",
    "        bounds = bounds,\n",
    "        initial = wₒ,\n",
    "        R = 0.0\n",
    "    ));\n",
    "\n",
    "    problem_sim_twins; # return\n",
    "end;"
   ]
  },
  {
   "cell_type": "markdown",
   "id": "287c4ec0-e9d4-45c9-9c2e-7db7911b4b41",
   "metadata": {},
   "source": [
    "Now that we have both problems set up, we need to create an array with the minimum desired rewards (the calculation must achieve at least this much reward). In this case, assume we go from the risk-free rate to some multiple of the risk-free rate, taking `number_of_points::Int64` steps.  \n",
    "\n",
    "We store these values in the `minimum_desired_reward_array::Array{Float64,1}` variable:"
   ]
  },
  {
   "cell_type": "code",
   "execution_count": null,
   "id": "a62e9f23-02cb-4c3c-b5a0-30215ca2c86f",
   "metadata": {
    "tags": []
   },
   "outputs": [],
   "source": [
    "minimum_desired_reward_array = range(risk_free_rate, stop = 10*risk_free_rate, length = number_of_points) |> collect; # range from risk-free rate to 10x risk-free rate"
   ]
  },
  {
   "cell_type": "markdown",
   "id": "9e583610-fae9-4325-a3d1-70476ad2847c",
   "metadata": {},
   "source": [
    "We now iterate through the `minimum_desired_reward_array::Array{Float64,1}` and compute the minimum risk required to achieve the specified reward level using a `for` loop.\n",
    "\n",
    "For each pass through the loop, we:\n",
    "* Update the `problem` variable with the minimum desired reward (set the `R` field). We then pass the updated `problem` object to the [solve(...) method](https://varnerlab.github.io/VLQuantitativeFinancePackage.jl/dev/portfolio/#VLQuantitativeFinancePackage.solve-Tuple{MyMarkowitzRiskyAssetOnlyPortfolioChoiceProblem}) (which initializes and solves the optimization problem). The solution returned from the [solve(...) method](https://varnerlab.github.io/VLQuantitativeFinancePackage.jl/dev/portfolio/#VLQuantitativeFinancePackage.solve-Tuple{MyMarkowitzRiskyAssetOnlyPortfolioChoiceProblem}) is stored in the `solution` dictionary. \n",
    "* We check the `status` of the solution. If the `status` indicates an optimal solution was found, we store that solution in the `efficient_frontier` dictionary. In particular, we store the portfolio risk as the `key` and the expected return, risk, and allocation as the `value` in the `efficient_frontier` dictionary.\n",
    "\n",
    "Why the [try-catch environment](https://docs.julialang.org/en/v1/base/base/#try)? The [solve(...) method](https://varnerlab.github.io/VLQuantitativeFinancePackage.jl/dev/portfolio/#VLQuantitativeFinancePackage.solve-Tuple{MyMarkowitzRiskyAssetOnlyPortfolioChoiceProblem}) has an [@assert statement](https://docs.julialang.org/en/v1/base/base/#Base.@assert) to check if the calculation has converged. Thus, the solve method can [throw](https://docs.julialang.org/en/v1/base/base/#Core.throw) an [AssertionError](https://docs.julialang.org/en/v1/base/base/#Core.AssertionError) if the optimization problem fails to converge. To gracefully handle this case, we use a [try-catch construct](https://docs.julialang.org/en/v1/base/base/#try). See the [is_solved_and_feasible method from the JuMP package](https://jump.dev/JuMP.jl/stable/api/JuMP/#JuMP.is_solved_and_feasible) for more information."
   ]
  },
  {
   "cell_type": "code",
   "execution_count": null,
   "id": "8c80968c-cdf4-4759-9bc5-c21a32a40055",
   "metadata": {
    "tags": []
   },
   "outputs": [],
   "source": [
    "efficient_frontier_sim_primary = let\n",
    "\n",
    "    # initialize -\n",
    "    efficient_frontier = Dict{Float64, NamedTuple}();\n",
    "    problem_model = problem_sim_primary; # alias the problem so we can change it later\n",
    "\n",
    "    # main loop\n",
    "    for i ∈ eachindex(minimum_desired_reward_array)\n",
    "        problem_model.R = minimum_desired_reward_array[i]; # update the problem object with the min desired reward value\n",
    "\n",
    "        try\n",
    "            solution = solve(problem_model)\n",
    "            status_flag = solution[\"status\"];    \n",
    "\n",
    "            if (status_flag == MathOptInterface.LOCALLY_SOLVED)\n",
    "                risk_value = solution[\"objective_value\"]; # get the sqrt of the risk\n",
    "                reward_value = solution[\"reward\"];\n",
    "                allocation = solution[\"argmax\"]; # extract the optimal allocation\n",
    "                efficient_frontier[risk_value] = (risk = risk_value, reward = reward_value, w = allocation)\n",
    "            end\n",
    "        catch err\n",
    "            # Uncomment to see which R's failed ...\n",
    "            # println(\"Failed: desired R = $(problem_sim.R). Infeasible\");\n",
    "        end    \n",
    "    end\n",
    "    efficient_frontier;\n",
    "end;"
   ]
  },
  {
   "cell_type": "markdown",
   "id": "137dfed7",
   "metadata": {},
   "source": [
    "Next, do the same for the problem instance that includes the low-correlation twins. Store the efficient frontier in the `efficient_frontier_sim_twins::Dict{Float64, NamedTuple}` variable:"
   ]
  },
  {
   "cell_type": "code",
   "execution_count": null,
   "id": "62bd7703",
   "metadata": {},
   "outputs": [],
   "source": [
    "efficient_frontier_sim_twins = let\n",
    "\n",
    "    # initialize -\n",
    "    efficient_frontier = Dict{Float64, NamedTuple}();\n",
    "    problem_model = problem_sim_twins; # alias the problem so we can change it later\n",
    "\n",
    "    # main loop\n",
    "    for i ∈ eachindex(minimum_desired_reward_array)\n",
    "        problem_model.R = minimum_desired_reward_array[i]; # update the problem object with the min desired reward value\n",
    "\n",
    "        try\n",
    "            # TODO: Uncomment to solve the problem for the twin tickers. Once done, don't forget to comment out the ErrorException line\n",
    "            # throw(ErrorException(\"Ooops! Need to solve the problem for the twin tickers\"));\n",
    "            solution = solve(problem_model) # call's the solve function to compute optimal allocation\n",
    "            status_flag = solution[\"status\"];    \n",
    "\n",
    "            if (status_flag == MathOptInterface.LOCALLY_SOLVED)\n",
    "                risk_value = solution[\"objective_value\"]; # get the sqrt of the risk\n",
    "                reward_value = solution[\"reward\"];\n",
    "                allocation = solution[\"argmax\"]; # extract the optimal allocation\n",
    "                efficient_frontier[risk_value] = (risk = risk_value, reward = reward_value, w = allocation)\n",
    "            end\n",
    "        catch err\n",
    "            # Uncomment to see which R's failed ...\n",
    "            # println(\"Failed: desired R = $(problem_sim.R). Infeasible\");\n",
    "        end    \n",
    "    end\n",
    "    efficient_frontier;\n",
    "end;"
   ]
  },
  {
   "cell_type": "markdown",
   "id": "918fc16f",
   "metadata": {},
   "source": [
    "So what do we get stored in the efficient frontier dictionaries?"
   ]
  },
  {
   "cell_type": "code",
   "execution_count": null,
   "id": "c750f5d3",
   "metadata": {},
   "outputs": [],
   "source": [
    "efficient_frontier_sim_twins"
   ]
  },
  {
   "cell_type": "markdown",
   "id": "a71680c7",
   "metadata": {},
   "source": [
    "### Organize efficient frontier results into a matrix for analysis and visualization\n",
    "Transform the `efficient_frontier::Dict{Float64,NamedTuple}` dictionaries into a matrix format for plotting and analysis.\n",
    "\n",
    "> __What are we doing?__ Extract portfolio data from the `efficient_frontier::Dict{Float64,NamedTuple}` dictionary and organize it into the `results_array_sim::Array{Float64,2}` matrix. Sort portfolios by risk level and store risk, return, and allocation weights in matrix columns.\n",
    "\n",
    "> __What's in the results array?__ The `results_array_sim::Array{Float64,2}` has `number_of_portfolios::Int64` rows and `M+2` columns:\n",
    "> * Column 1: Sorted portfolio risk (standard deviation = √variance). Sorted from lowest to highest risk  \n",
    "> * Column 2: Portfolio expected return\n",
    "> * Columns 3 to M+2: Asset allocation weights for the `M::Int64` tickers\n",
    "\n",
    "Let's build the `results_array_sim_primary::Array{Float64,2}` from our efficient frontier solutions:"
   ]
  },
  {
   "cell_type": "code",
   "execution_count": null,
   "id": "ae7c13e1",
   "metadata": {},
   "outputs": [],
   "source": [
    "results_array_sim_primary = let\n",
    "\n",
    "    # initialize -\n",
    "    efficient_frontier = efficient_frontier_sim_primary; # alias the efficient frontier\n",
    "    local_list_of_tickers = my_primary_list_of_tickers; # alias the ticker list\n",
    "\n",
    "    # Build the results array -\n",
    "    number_of_portfolios = length(efficient_frontier); # how many portfolios do we have? (these all exited correctly)\n",
    "    M = length(local_list_of_tickers); # how many tickers do we have?\n",
    "    results_array = Array{Float64,2}(undef, number_of_portfolios, M+2);\n",
    "    risk_array_sorted = keys(efficient_frontier) |> collect |> sort;\n",
    "\n",
    "    for i ∈ eachindex(risk_array_sorted)\n",
    "        risk_value = risk_array_sorted[i] |> sqrt; # let's plot the sqrt of the risk\n",
    "        \n",
    "        data = efficient_frontier[risk_array_sorted[i]] # get the NamedTuple corresponding to this risk level\n",
    "        reward_value = data.reward;\n",
    "        w = data.w;\n",
    "\n",
    "        results_array[i,1] = risk_value;\n",
    "        results_array[i,2] = reward_value;\n",
    "        for j ∈ 1:M\n",
    "            results_array[i,2+j] = w[j];\n",
    "        end\n",
    "    end\n",
    "\n",
    "    results_array # return\n",
    "end"
   ]
  },
  {
   "cell_type": "markdown",
   "id": "acc02970",
   "metadata": {},
   "source": [
    "Next, do the same for data in the `efficient_frontier_sim_twins::Dict{Float64,NamedTuple}` dictionary. Store the results in the `results_array_sim_twins::Array{Float64,2}` variable:"
   ]
  },
  {
   "cell_type": "code",
   "execution_count": null,
   "id": "db8bdaef",
   "metadata": {},
   "outputs": [],
   "source": [
    "results_array_sim_twins = let\n",
    "\n",
    "    # initialize -\n",
    "    efficient_frontier = efficient_frontier_sim_twins; # alias the efficient frontier\n",
    "    local_list_of_tickers = my_list_of_twin_tickers; # alias the ticker list\n",
    "\n",
    "    # TODO: Build the results array -\n",
    "    # TODO: Uncomment to build the results array for the twin tickers. Once done, don't forget to comment out the ErrorException line\n",
    "    # throw(ErrorException(\"Ooops! Need to build the results array for the twin tickers\"));\n",
    "    number_of_portfolios = length(efficient_frontier); # how many portfolios do we have? (these all exited correctly)\n",
    "    M = length(local_list_of_tickers); # how many tickers do we have?\n",
    "    results_array = Array{Float64,2}(undef, number_of_portfolios, M+2);\n",
    "    risk_array_sorted = keys(efficient_frontier) |> collect |> sort;\n",
    "\n",
    "    for i ∈ eachindex(risk_array_sorted)\n",
    "        risk_value = risk_array_sorted[i] |> sqrt; # let's plot the sqrt of the risk\n",
    "        \n",
    "        data = efficient_frontier[risk_array_sorted[i]] # get the NamedTuple corresponding to this risk level\n",
    "        reward_value = data.reward;\n",
    "        w = data.w;\n",
    "\n",
    "        results_array[i,1] = risk_value;\n",
    "        results_array[i,2] = reward_value;\n",
    "        for j ∈ 1:M\n",
    "            results_array[i,2+j] = w[j];\n",
    "        end\n",
    "    end\n",
    "\n",
    "    results_array # return\n",
    "end"
   ]
  },
  {
   "cell_type": "markdown",
   "id": "7166f52d",
   "metadata": {},
   "source": [
    "### Visualize the Efficient Frontier\n",
    "With our efficient frontiers computed and organized into matrix format, we can now visualize the classic risk-return trade-off that Markowitz theory reveals. The efficient frontier shows the boundary of achievable risk-return combinations for our selected assets."
   ]
  },
  {
   "cell_type": "code",
   "execution_count": null,
   "id": "b2af1534",
   "metadata": {},
   "outputs": [],
   "source": [
    "let\n",
    "\n",
    "    # initialize -\n",
    "    skip = PLOT_SKIP_FACTOR;\n",
    "\n",
    "    # -- PRIMARY TICKERS SIM PLOT START --------------------------------------------------------------------- #\n",
    "    results_array = results_array_sim_primary; # alias the results array\n",
    "    efficient_frontier = efficient_frontier_sim_primary; # alias the efficient frontier\n",
    "    max_risk_value = results_array[end,1]; # what is the biggest risk we have (x-axis value)\n",
    "    max_reward_value = results_array[end,2]; # what is the biggest reward that we have (y-axis value)\n",
    "    number_of_portfolios_sim = length(efficient_frontier); # how many portfolios did we recover?\n",
    "    plot(results_array[:,1], results_array[:,2], lw=4, xlabel=\"Risk sqrt(variance)\", \n",
    "        ylabel=\"Portfolio log growth (1/yr)\", fontsize=PLOT_FONT_SIZE, label=\"SIM\", c=:red, \n",
    "        xlim=(0.0, AXIS_LIMIT_MULTIPLIER*max_risk_value), ylim = (0.0, AXIS_LIMIT_MULTIPLIER*max_reward_value))\n",
    "    scatter!(results_array[1:skip:number_of_portfolios_sim,1], results_array[1:skip:number_of_portfolios_sim,2], \n",
    "        label=\"\", c=:white, ms=4, msc=:red)\n",
    "    \n",
    "    # --PRIMARY TICKERS SIM PLOT END ----------------------------------------------------------------------- #\n",
    "\n",
    "    # -- TWIN TICKERS SIM PLOT START ----------------------------------------------------------------------- #\n",
    "    results_array = results_array_sim_twins; # alias the results array\n",
    "    efficient_frontier = efficient_frontier_sim_twins; # alias the efficient frontier\n",
    "\n",
    "    max_risk_value = results_array[end,1]; # what is the biggest risk we have (x-axis value)\n",
    "    max_reward_value = results_array[end,2]; # what is the biggest reward that we have (y-axis value)\n",
    "    number_of_portfolios_sim = length(efficient_frontier); # how many portfolios did we recover?\n",
    "    plot!(results_array[:,1], results_array[:,2], lw=4, xlabel=\"Risk sqrt(variance)\", \n",
    "        ylabel=\"Portfolio log growth (1/yr)\", fontsize=PLOT_FONT_SIZE, label=\"SIM-TWINS\", c=:gray20, \n",
    "        xlim=(0.0, AXIS_LIMIT_MULTIPLIER*max_risk_value), ylim = (0.0, AXIS_LIMIT_MULTIPLIER*max_reward_value))\n",
    "    scatter!(results_array[1:skip:number_of_portfolios_sim,1], results_array[1:skip:number_of_portfolios_sim,2], \n",
    "        label=\"\", c=:white, ms=4, msc=:gray20)\n",
    "    # -- TWIN TICKERS SIM PLOT END ------------------------------------------------------------------------- #\n",
    "\n",
    "    plot!(bg=\"gray95\", background_color_outside=\"white\", framestyle = :box, fg_legend = :transparent);\n",
    "\n",
    "end"
   ]
  },
  {
   "cell_type": "markdown",
   "id": "2c1cda84",
   "metadata": {},
   "source": [
    "### Discussion Question for Task 2\n",
    "\n",
    "__Question:__ Examine the two efficient frontiers plotted above (the primary tickers SIM portfolio in red and the primary+twins SIM portfolio in gray). The primary+twins portfolio includes low-correlation assets paired with each original ticker.\n",
    "\n",
    "Compare the shape, position, and risk-return characteristics of these two efficient frontiers. Specifically:\n",
    "1. Which efficient frontier offers better risk-adjusted returns (higher return for the same risk, or lower risk for the same return)?\n",
    "2. What does this tell you about the benefit of including low-correlation assets in a portfolio?\n",
    "3. How does diversification through low-correlation assets affect the efficient frontier's position and curvature?\n",
    "\n",
    "Provide your analysis and interpretation below, supporting your conclusions with specific observations from the plot."
   ]
  },
  {
   "cell_type": "markdown",
   "id": "72875a88",
   "metadata": {},
   "source": [
    "__Answers here:__ Put your answers to the discussion questions for task 2 here."
   ]
  },
  {
   "cell_type": "code",
   "execution_count": 27,
   "id": "bb27ef05",
   "metadata": {},
   "outputs": [],
   "source": [
    "did_I_answer_the_discussion_questions_task_2 = true; # set to {true | false} if you answered the discussion question"
   ]
  },
  {
   "cell_type": "markdown",
   "id": "fb1bf4c2",
   "metadata": {},
   "source": [
    "___"
   ]
  },
  {
   "cell_type": "markdown",
   "id": "a967a000-5c52-4592-9b57-c1352785832a",
   "metadata": {},
   "source": [
    "## Task 3: Portfolio Performance Evaluation\n",
    "We now evaluate the actual wealth trajectories of portfolios constructed using the SIM-based allocations from Task 2. We compare the primary, primary+twins, and SPY portfolios to assess real-world portfolio performance.\n",
    "\n",
    "To begin, specify a desired portfolio growth rate in the `desired_growth_rate::Float64` variable:"
   ]
  },
  {
   "cell_type": "code",
   "execution_count": 28,
   "id": "7d78bbf3-437c-4585-905e-63f624e43f75",
   "metadata": {},
   "outputs": [],
   "source": [
    "desired_growth_rate = 0.20; # select a desired *excess* return where both approaches have data"
   ]
  },
  {
   "cell_type": "markdown",
   "id": "08bea4c9-c150-49a2-a289-bb8a24db7c40",
   "metadata": {},
   "source": [
    "Next, let's (re)resolve the minimum variance problem for the primary list of tickers, and the low-correlation twins using the same desired growth rate, specified in the `desired_growth_rate` variable. \n",
    "\n",
    "Update the appropriate problem instances with the new `R` field, and then call the [solve(...) method](https://varnerlab.github.io/VLQuantitativeFinancePackage.jl/dev/portfolio/#VLQuantitativeFinancePackage.solve-Tuple{MyMarkowitzRiskyAssetOnlyPortfolioChoiceProblem}) to resolve the optimization problem. Store the solution in the `desired_solution_sim_primary::Dict{String, Any}` variable:"
   ]
  },
  {
   "cell_type": "code",
   "execution_count": 29,
   "id": "6b51e88f-330f-46a7-b219-a48866d89112",
   "metadata": {
    "jupyter": {
     "source_hidden": true
    }
   },
   "outputs": [],
   "source": [
    "desired_solution_sim_primary = let\n",
    "\n",
    "    # initialize -\n",
    "    problem_model = problem_sim_primary; # alias the problem so we can change it later\n",
    "    problem_model.R = desired_growth_rate;\n",
    "    solution_sim = nothing;\n",
    "    \n",
    "    try\n",
    "        solution_sim = solve(problem_model);\n",
    "    catch err\n",
    "        # Uncomment below to see error message\n",
    "        println(\"What the what? Something happened: $(err)\");\n",
    "    end\n",
    "\n",
    "    solution_sim; # return\n",
    "end;"
   ]
  },
  {
   "cell_type": "markdown",
   "id": "4c3bcd57",
   "metadata": {},
   "source": [
    "Next, do the same for the low-correlation twin problem instance. Store the solution in the `desired_solution_sim_twin::Dict{String, Any}` variable:"
   ]
  },
  {
   "cell_type": "code",
   "execution_count": 30,
   "id": "c866bf6a",
   "metadata": {},
   "outputs": [],
   "source": [
    "desired_solution_sim_twins = let\n",
    "\n",
    "    # initialize -\n",
    "    problem_model = problem_sim_twins; # alias the problem so we can change it later\n",
    "    problem_model.R = desired_growth_rate;\n",
    "    solution_sim = nothing;\n",
    "    \n",
    "    try\n",
    "        solution_sim = solve(problem_model);\n",
    "    catch err\n",
    "        # Uncomment below to see error message\n",
    "        println(\"What the what? Something happened: $(err)\");\n",
    "    end\n",
    "\n",
    "    solution_sim; # return\n",
    "end;"
   ]
  },
  {
   "cell_type": "code",
   "execution_count": 31,
   "id": "a20d2753",
   "metadata": {},
   "outputs": [
    {
     "data": {
      "text/plain": [
       "Dict{String, Any} with 4 entries:\n",
       "  \"argmax\"          => [0.228444, 5.8181e-8, 0.258019, 0.0139968, 2.9536e-8, 2.…\n",
       "  \"reward\"          => 0.2\n",
       "  \"status\"          => LOCALLY_SOLVED\n",
       "  \"objective_value\" => 0.0218458"
      ]
     },
     "metadata": {},
     "output_type": "display_data"
    }
   ],
   "source": [
    "desired_solution_sim_twins"
   ]
  },
  {
   "cell_type": "markdown",
   "id": "1a23e758",
   "metadata": {},
   "source": [
    "Compute the number of shares held in each asset in the __primary portfolio__, assuming we invested `budget_in_risky_assets::Float64` USD in the risky assets in this portfolio. Store the number of shares in the `n₁::Array{Float64,1}` variable:"
   ]
  },
  {
   "cell_type": "code",
   "execution_count": 32,
   "id": "0d744e60",
   "metadata": {},
   "outputs": [],
   "source": [
    "n₁ = let\n",
    "\n",
    "    # initialize -\n",
    "    local_list_of_tickers = my_primary_list_of_tickers;\n",
    "    w = desired_solution_sim_primary[\"argmax\"]; # extract the allocation from the desired solution\n",
    "    n = Array{Float64,1}(undef, length(w)); # number of shares\n",
    "    B = budget_in_risky_assets; # total budget to invest in risky assets\n",
    "\n",
    "    for i ∈ eachindex(w)\n",
    "        ticker = local_list_of_tickers[i];\n",
    "        price = dataset[ticker][1, :open]; # get the most recent opening price\n",
    "        dollar_amount = w[i]*B; # dollar amount to invest in this asset\n",
    "        n[i] = (dollar_amount/price) |> abs; # number of shares to buy (rounded down)\n",
    "    end\n",
    "\n",
    "    n; # return the number of shares array\n",
    "end;"
   ]
  },
  {
   "cell_type": "markdown",
   "id": "3b5f62a2",
   "metadata": {},
   "source": [
    "Do the same for the low-correlation __twin portfolio__. Store the number of shares in the `n₂::Array{Float64,1}` variable:"
   ]
  },
  {
   "cell_type": "code",
   "execution_count": 33,
   "id": "7c75e02f",
   "metadata": {},
   "outputs": [],
   "source": [
    "n₂ = let\n",
    "\n",
    "    # initialize -\n",
    "    local_list_of_tickers =  my_list_of_twin_tickers;\n",
    "    w = desired_solution_sim_twins[\"argmax\"]; # extract the allocation from the desired solution\n",
    "    n = Array{Float64,1}(undef, length(w)); # number of shares\n",
    "    B = budget_in_risky_assets; # total budget to invest in risky assets\n",
    "\n",
    "    for i ∈ eachindex(w)\n",
    "        ticker = local_list_of_tickers[i];\n",
    "        price = dataset[ticker][1, :open]; # get the most recent opening price\n",
    "        dollar_amount = w[i]*B; # dollar amount to invest in this asset\n",
    "        n[i] = (dollar_amount/price) |> abs; # number of shares to buy (rounded down)\n",
    "    end\n",
    "\n",
    "    n; # return the number of shares array\n",
    "end;"
   ]
  },
  {
   "cell_type": "markdown",
   "id": "afca3af4",
   "metadata": {},
   "source": [
    "Next, let's compute the number of shares of the alternative market portfolio, e.g., `SPY`, assuming we invested the same total budget of `budget_in_risky_assets::Float64` USD in that asset. Store the result in the `n_alternative::Float64` variable:"
   ]
  },
  {
   "cell_type": "code",
   "execution_count": 34,
   "id": "ead4e4ee",
   "metadata": {},
   "outputs": [],
   "source": [
    "n_alternative = let\n",
    "\n",
    "    # initialize -\n",
    "    B = budget_in_risky_assets; # use the actual invested budget\n",
    "    ticker = \"SPY\"; # alternative market portfolio\n",
    "    price = dataset[ticker][1, :open]; # get the most recent opening price\n",
    "    n_spy = B/price; # number of shares to buy (rounded down)\n",
    "    n_spy; # return\n",
    "end;"
   ]
  },
  {
   "cell_type": "markdown",
   "id": "1a671457",
   "metadata": {},
   "source": [
    "Now compute the wealth trajectories for three portfolios: the primary portfolio, the primary portfolio with low correlation twins, and the alternative market portfolio (`SPY`). Store these in the `W₁::Array{Float64,1}`, `W₂::Array{Float64,1}`, and `Wₐ::Array{Float64,1}` arrays:"
   ]
  },
  {
   "cell_type": "code",
   "execution_count": 35,
   "id": "7969b833",
   "metadata": {},
   "outputs": [],
   "source": [
    "W₁,W₂,Wₐ = let\n",
    "    \n",
    "    # initialize -\n",
    "    W₁ = Array{Float64,1}(undef, maximum_number_trading_days); # wealth for primary portfolio\n",
    "    W₂ = Array{Float64,1}(undef, maximum_number_trading_days); # wealth for twin portfolio\n",
    "    Wₐ = Array{Float64,1}(undef, maximum_number_trading_days); # wealth for alternative portfolio, e.g., SPY\n",
    "\n",
    "    for i ∈ 1:maximum_number_trading_days\n",
    "        \n",
    "        # Wealth: primary portfolio\n",
    "        local_list_of_tickers = my_primary_list_of_tickers\n",
    "        Sᵢ = [dataset[local_list_of_tickers[j]][i, :close] for j ∈ eachindex(local_list_of_tickers) ]; # prices at time i\n",
    "        W₁[i] = sum(n₁[j]*Sᵢ[j] for j ∈ eachindex(local_list_of_tickers)); # wealth at time i for primary portfolio\n",
    "\n",
    "        # Wealth: twin portfolio\n",
    "        local_list_of_tickers = my_list_of_twin_tickers\n",
    "        Sᵢ = [dataset[local_list_of_tickers[j]][i, :close] for j ∈ eachindex(local_list_of_tickers) ]; # prices at time i\n",
    "        W₂[i] = sum(n₂[j]*Sᵢ[j] for j ∈ eachindex(local_list_of_tickers)); # wealth at time i for twin portfolio\n",
    "\n",
    "        # Wealth: alternative portfolio, e.g., SPY -    \n",
    "        Wₐ[i] = n_alternative*dataset[\"SPY\"][i, :close];\n",
    "    end\n",
    "\n",
    "    (W₁, W₂, Wₐ); # return\n",
    "end;"
   ]
  },
  {
   "cell_type": "markdown",
   "id": "ea297c1a",
   "metadata": {},
   "source": [
    "Visualize the out-of-sample wealth trajectories for the three portfolios. The plot shows how different capital allocation strategies perform compared to the alternative market portfolio (`SPY`) strategy:"
   ]
  },
  {
   "cell_type": "code",
   "execution_count": 36,
   "id": "8a2dc4e0",
   "metadata": {},
   "outputs": [
    {
     "data": {
      "image/png": "[encoded data removed]",
      "image/svg+xml": [
       "<?xml version=\"1.0\" encoding=\"utf-8\"?>\n",
       "<svg xmlns=\"http://www.w3.org/2000/svg\" xmlns:xlink=\"http://www.w3.org/1999/xlink\" width=\"600\" height=\"400\" viewBox=\"0 0 2400 1600\">\n",
       "<defs>\n",
       "  <clipPath id=\"clip390\">\n",
       "    <rect x=\"0\" y=\"0\" width=\"2400\" height=\"1600\"/>\n",
       "  </clipPath>\n",
       "</defs>\n",
       "<path clip-path=\"url(#clip390)\" d=\"M0 1600 L2400 1600 L2400 8.88178e-14 L0 8.88178e-14  Z\" fill=\"#ffffff\" fill-rule=\"evenodd\" fill-opacity=\"1\"/>\n",
       "<defs>\n",
       "  <clipPath id=\"clip391\">\n",
       "    <rect x=\"480\" y=\"0\" width=\"1681\" height=\"1600\"/>\n",
       "  </clipPath>\n",
       "</defs>\n",
       "<path clip-path=\"url(#clip390)\" d=\"M262.551 1423.18 L2352.76 1423.18 L2352.76 47.2441 L262.551 47.2441  Z\" fill=\"#f2f2f2\" fill-rule=\"evenodd\" fill-opacity=\"1\"/>\n",
       "<defs>\n",
       "  <clipPath id=\"clip392\">\n",
       "    <rect x=\"262\" y=\"47\" width=\"2091\" height=\"1377\"/>\n",
       "  </clipPath>\n",
       "</defs>\n",
       "<polyline clip-path=\"url(#clip392)\" style=\"stroke:#000000; stroke-linecap:round; stroke-linejoin:round; stroke-width:2; stroke-opacity:0.1; fill:none\" points=\"310.814,1423.18 310.814,47.2441 \"/>\n",
       "<polyline clip-path=\"url(#clip392)\" style=\"stroke:#000000; stroke-linecap:round; stroke-linejoin:round; stroke-width:2; stroke-opacity:0.1; fill:none\" points=\"855.535,1423.18 855.535,47.2441 \"/>\n",
       "<polyline clip-path=\"url(#clip392)\" style=\"stroke:#000000; stroke-linecap:round; stroke-linejoin:round; stroke-width:2; stroke-opacity:0.1; fill:none\" points=\"1400.26,1423.18 1400.26,47.2441 \"/>\n",
       "<polyline clip-path=\"url(#clip392)\" style=\"stroke:#000000; stroke-linecap:round; stroke-linejoin:round; stroke-width:2; stroke-opacity:0.1; fill:none\" points=\"1944.98,1423.18 1944.98,47.2441 \"/>\n",
       "<polyline clip-path=\"url(#clip392)\" style=\"stroke:#000000; stroke-linecap:round; stroke-linejoin:round; stroke-width:2; stroke-opacity:0.1; fill:none\" points=\"310.814,1423.18 310.814,47.2441 \"/>\n",
       "<polyline clip-path=\"url(#clip392)\" style=\"stroke:#000000; stroke-linecap:round; stroke-linejoin:round; stroke-width:2; stroke-opacity:0.1; fill:none\" points=\"855.535,1423.18 855.535,47.2441 \"/>\n",
       "<polyline clip-path=\"url(#clip392)\" style=\"stroke:#000000; stroke-linecap:round; stroke-linejoin:round; stroke-width:2; stroke-opacity:0.1; fill:none\" points=\"1400.26,1423.18 1400.26,47.2441 \"/>\n",
       "<polyline clip-path=\"url(#clip392)\" style=\"stroke:#000000; stroke-linecap:round; stroke-linejoin:round; stroke-width:2; stroke-opacity:0.1; fill:none\" points=\"1944.98,1423.18 1944.98,47.2441 \"/>\n",
       "<polyline clip-path=\"url(#clip392)\" style=\"stroke:#000000; stroke-linecap:round; stroke-linejoin:round; stroke-width:2; stroke-opacity:0.1; fill:none\" points=\"262.551,1361.99 2352.76,1361.99 \"/>\n",
       "<polyline clip-path=\"url(#clip392)\" style=\"stroke:#000000; stroke-linecap:round; stroke-linejoin:round; stroke-width:2; stroke-opacity:0.1; fill:none\" points=\"262.551,1138.15 2352.76,1138.15 \"/>\n",
       "<polyline clip-path=\"url(#clip392)\" style=\"stroke:#000000; stroke-linecap:round; stroke-linejoin:round; stroke-width:2; stroke-opacity:0.1; fill:none\" points=\"262.551,914.319 2352.76,914.319 \"/>\n",
       "<polyline clip-path=\"url(#clip392)\" style=\"stroke:#000000; stroke-linecap:round; stroke-linejoin:round; stroke-width:2; stroke-opacity:0.1; fill:none\" points=\"262.551,690.486 2352.76,690.486 \"/>\n",
       "<polyline clip-path=\"url(#clip392)\" style=\"stroke:#000000; stroke-linecap:round; stroke-linejoin:round; stroke-width:2; stroke-opacity:0.1; fill:none\" points=\"262.551,466.652 2352.76,466.652 \"/>\n",
       "<polyline clip-path=\"url(#clip392)\" style=\"stroke:#000000; stroke-linecap:round; stroke-linejoin:round; stroke-width:2; stroke-opacity:0.1; fill:none\" points=\"262.551,242.819 2352.76,242.819 \"/>\n",
       "<polyline clip-path=\"url(#clip392)\" style=\"stroke:#000000; stroke-linecap:round; stroke-linejoin:round; stroke-width:2; stroke-opacity:0.1; fill:none\" points=\"262.551,1361.99 2352.76,1361.99 \"/>\n",
       "<polyline clip-path=\"url(#clip392)\" style=\"stroke:#000000; stroke-linecap:round; stroke-linejoin:round; stroke-width:2; stroke-opacity:0.1; fill:none\" points=\"262.551,1138.15 2352.76,1138.15 \"/>\n",
       "<polyline clip-path=\"url(#clip392)\" style=\"stroke:#000000; stroke-linecap:round; stroke-linejoin:round; stroke-width:2; stroke-opacity:0.1; fill:none\" points=\"262.551,914.319 2352.76,914.319 \"/>\n",
       "<polyline clip-path=\"url(#clip392)\" style=\"stroke:#000000; stroke-linecap:round; stroke-linejoin:round; stroke-width:2; stroke-opacity:0.1; fill:none\" points=\"262.551,690.486 2352.76,690.486 \"/>\n",
       "<polyline clip-path=\"url(#clip392)\" style=\"stroke:#000000; stroke-linecap:round; stroke-linejoin:round; stroke-width:2; stroke-opacity:0.1; fill:none\" points=\"262.551,466.652 2352.76,466.652 \"/>\n",
       "<polyline clip-path=\"url(#clip392)\" style=\"stroke:#000000; stroke-linecap:round; stroke-linejoin:round; stroke-width:2; stroke-opacity:0.1; fill:none\" points=\"262.551,242.819 2352.76,242.819 \"/>\n",
       "<polyline clip-path=\"url(#clip390)\" style=\"stroke:#000000; stroke-linecap:round; stroke-linejoin:round; stroke-width:4; stroke-opacity:1; fill:none\" points=\"262.551,1423.18 2352.76,1423.18 \"/>\n",
       "<polyline clip-path=\"url(#clip390)\" style=\"stroke:#000000; stroke-linecap:round; stroke-linejoin:round; stroke-width:4; stroke-opacity:1; fill:none\" points=\"262.551,47.2441 2352.76,47.2441 \"/>\n",
       "<polyline clip-path=\"url(#clip390)\" style=\"stroke:#000000; stroke-linecap:round; stroke-linejoin:round; stroke-width:4; stroke-opacity:1; fill:none\" points=\"310.814,1423.18 310.814,1404.28 \"/>\n",
       "<polyline clip-path=\"url(#clip390)\" style=\"stroke:#000000; stroke-linecap:round; stroke-linejoin:round; stroke-width:4; stroke-opacity:1; fill:none\" points=\"855.535,1423.18 855.535,1404.28 \"/>\n",
       "<polyline clip-path=\"url(#clip390)\" style=\"stroke:#000000; stroke-linecap:round; stroke-linejoin:round; stroke-width:4; stroke-opacity:1; fill:none\" points=\"1400.26,1423.18 1400.26,1404.28 \"/>\n",
       "<polyline clip-path=\"url(#clip390)\" style=\"stroke:#000000; stroke-linecap:round; stroke-linejoin:round; stroke-width:4; stroke-opacity:1; fill:none\" points=\"1944.98,1423.18 1944.98,1404.28 \"/>\n",
       "<polyline clip-path=\"url(#clip390)\" style=\"stroke:#000000; stroke-linecap:round; stroke-linejoin:round; stroke-width:4; stroke-opacity:1; fill:none\" points=\"310.814,47.2441 310.814,66.1417 \"/>\n",
       "<polyline clip-path=\"url(#clip390)\" style=\"stroke:#000000; stroke-linecap:round; stroke-linejoin:round; stroke-width:4; stroke-opacity:1; fill:none\" points=\"855.535,47.2441 855.535,66.1417 \"/>\n",
       "<polyline clip-path=\"url(#clip390)\" style=\"stroke:#000000; stroke-linecap:round; stroke-linejoin:round; stroke-width:4; stroke-opacity:1; fill:none\" points=\"1400.26,47.2441 1400.26,66.1417 \"/>\n",
       "<polyline clip-path=\"url(#clip390)\" style=\"stroke:#000000; stroke-linecap:round; stroke-linejoin:round; stroke-width:4; stroke-opacity:1; fill:none\" points=\"1944.98,47.2441 1944.98,66.1417 \"/>\n",
       "<path clip-path=\"url(#clip390)\" d=\"M310.814 1454.1 Q307.202 1454.1 305.374 1457.66 Q303.568 1461.2 303.568 1468.33 Q303.568 1475.44 305.374 1479.01 Q307.202 1482.55 310.814 1482.55 Q314.448 1482.55 316.253 1479.01 Q318.082 1475.44 318.082 1468.33 Q318.082 1461.2 316.253 1457.66 Q314.448 1454.1 310.814 1454.1 M310.814 1450.39 Q316.624 1450.39 319.679 1455 Q322.758 1459.58 322.758 1468.33 Q322.758 1477.06 319.679 1481.67 Q316.624 1486.25 310.814 1486.25 Q305.003 1486.25 301.925 1481.67 Q298.869 1477.06 298.869 1468.33 Q298.869 1459.58 301.925 1455 Q305.003 1450.39 310.814 1450.39 Z\" fill=\"#000000\" fill-rule=\"nonzero\" fill-opacity=\"1\" /><path clip-path=\"url(#clip390)\" d=\"M830.234 1451.02 L848.59 1451.02 L848.59 1454.96 L834.516 1454.96 L834.516 1463.43 Q835.535 1463.08 836.553 1462.92 Q837.572 1462.73 838.591 1462.73 Q844.378 1462.73 847.757 1465.9 Q851.137 1469.08 851.137 1474.49 Q851.137 1480.07 847.665 1483.17 Q844.192 1486.25 837.873 1486.25 Q835.697 1486.25 833.428 1485.88 Q831.183 1485.51 828.776 1484.77 L828.776 1480.07 Q830.859 1481.2 833.081 1481.76 Q835.303 1482.32 837.78 1482.32 Q841.785 1482.32 844.123 1480.21 Q846.461 1478.1 846.461 1474.49 Q846.461 1470.88 844.123 1468.77 Q841.785 1466.67 837.78 1466.67 Q835.905 1466.67 834.03 1467.08 Q832.179 1467.5 830.234 1468.38 L830.234 1451.02 Z\" fill=\"#000000\" fill-rule=\"nonzero\" fill-opacity=\"1\" /><path clip-path=\"url(#clip390)\" d=\"M870.35 1454.1 Q866.739 1454.1 864.91 1457.66 Q863.104 1461.2 863.104 1468.33 Q863.104 1475.44 864.91 1479.01 Q866.739 1482.55 870.35 1482.55 Q873.984 1482.55 875.789 1479.01 Q877.618 1475.44 877.618 1468.33 Q877.618 1461.2 875.789 1457.66 Q873.984 1454.1 870.35 1454.1 M870.35 1450.39 Q876.16 1450.39 879.215 1455 Q882.294 1459.58 882.294 1468.33 Q882.294 1477.06 879.215 1481.67 Q876.16 1486.25 870.35 1486.25 Q864.539 1486.25 861.461 1481.67 Q858.405 1477.06 858.405 1468.33 Q858.405 1459.58 861.461 1455 Q864.539 1450.39 870.35 1450.39 Z\" fill=\"#000000\" fill-rule=\"nonzero\" fill-opacity=\"1\" /><path clip-path=\"url(#clip390)\" d=\"M1359.86 1481.64 L1367.5 1481.64 L1367.5 1455.28 L1359.19 1456.95 L1359.19 1452.69 L1367.46 1451.02 L1372.13 1451.02 L1372.13 1481.64 L1379.77 1481.64 L1379.77 1485.58 L1359.86 1485.58 L1359.86 1481.64 Z\" fill=\"#000000\" fill-rule=\"nonzero\" fill-opacity=\"1\" /><path clip-path=\"url(#clip390)\" d=\"M1399.21 1454.1 Q1395.6 1454.1 1393.77 1457.66 Q1391.97 1461.2 1391.97 1468.33 Q1391.97 1475.44 1393.77 1479.01 Q1395.6 1482.55 1399.21 1482.55 Q1402.85 1482.55 1404.65 1479.01 Q1406.48 1475.44 1406.48 1468.33 Q1406.48 1461.2 1404.65 1457.66 Q1402.85 1454.1 1399.21 1454.1 M1399.21 1450.39 Q1405.02 1450.39 1408.08 1455 Q1411.16 1459.58 1411.16 1468.33 Q1411.16 1477.06 1408.08 1481.67 Q1405.02 1486.25 1399.21 1486.25 Q1393.4 1486.25 1390.33 1481.67 Q1387.27 1477.06 1387.27 1468.33 Q1387.27 1459.58 1390.33 1455 Q1393.4 1450.39 1399.21 1450.39 Z\" fill=\"#000000\" fill-rule=\"nonzero\" fill-opacity=\"1\" /><path clip-path=\"url(#clip390)\" d=\"M1429.38 1454.1 Q1425.77 1454.1 1423.94 1457.66 Q1422.13 1461.2 1422.13 1468.33 Q1422.13 1475.44 1423.94 1479.01 Q1425.77 1482.55 1429.38 1482.55 Q1433.01 1482.55 1434.82 1479.01 Q1436.64 1475.44 1436.64 1468.33 Q1436.64 1461.2 1434.82 1457.66 Q1433.01 1454.1 1429.38 1454.1 M1429.38 1450.39 Q1435.19 1450.39 1438.24 1455 Q1441.32 1459.58 1441.32 1468.33 Q1441.32 1477.06 1438.24 1481.67 Q1435.19 1486.25 1429.38 1486.25 Q1423.57 1486.25 1420.49 1481.67 Q1417.43 1477.06 1417.43 1468.33 Q1417.43 1459.58 1420.49 1455 Q1423.57 1450.39 1429.38 1450.39 Z\" fill=\"#000000\" fill-rule=\"nonzero\" fill-opacity=\"1\" /><path clip-path=\"url(#clip390)\" d=\"M1904.58 1481.64 L1912.22 1481.64 L1912.22 1455.28 L1903.91 1456.95 L1903.91 1452.69 L1912.18 1451.02 L1916.85 1451.02 L1916.85 1481.64 L1924.49 1481.64 L1924.49 1485.58 L1904.58 1485.58 L1904.58 1481.64 Z\" fill=\"#000000\" fill-rule=\"nonzero\" fill-opacity=\"1\" /><path clip-path=\"url(#clip390)\" d=\"M1933.98 1451.02 L1952.34 1451.02 L1952.34 1454.96 L1938.26 1454.96 L1938.26 1463.43 Q1939.28 1463.08 1940.3 1462.92 Q1941.32 1462.73 1942.34 1462.73 Q1948.13 1462.73 1951.51 1465.9 Q1954.88 1469.08 1954.88 1474.49 Q1954.88 1480.07 1951.41 1483.17 Q1947.94 1486.25 1941.62 1486.25 Q1939.45 1486.25 1937.18 1485.88 Q1934.93 1485.51 1932.52 1484.77 L1932.52 1480.07 Q1934.61 1481.2 1936.83 1481.76 Q1939.05 1482.32 1941.53 1482.32 Q1945.53 1482.32 1947.87 1480.21 Q1950.21 1478.1 1950.21 1474.49 Q1950.21 1470.88 1947.87 1468.77 Q1945.53 1466.67 1941.53 1466.67 Q1939.65 1466.67 1937.78 1467.08 Q1935.93 1467.5 1933.98 1468.38 L1933.98 1451.02 Z\" fill=\"#000000\" fill-rule=\"nonzero\" fill-opacity=\"1\" /><path clip-path=\"url(#clip390)\" d=\"M1974.1 1454.1 Q1970.49 1454.1 1968.66 1457.66 Q1966.85 1461.2 1966.85 1468.33 Q1966.85 1475.44 1968.66 1479.01 Q1970.49 1482.55 1974.1 1482.55 Q1977.73 1482.55 1979.54 1479.01 Q1981.37 1475.44 1981.37 1468.33 Q1981.37 1461.2 1979.54 1457.66 Q1977.73 1454.1 1974.1 1454.1 M1974.1 1450.39 Q1979.91 1450.39 1982.96 1455 Q1986.04 1459.58 1986.04 1468.33 Q1986.04 1477.06 1982.96 1481.67 Q1979.91 1486.25 1974.1 1486.25 Q1968.29 1486.25 1965.21 1481.67 Q1962.15 1477.06 1962.15 1468.33 Q1962.15 1459.58 1965.21 1455 Q1968.29 1450.39 1974.1 1450.39 Z\" fill=\"#000000\" fill-rule=\"nonzero\" fill-opacity=\"1\" /><path clip-path=\"url(#clip390)\" d=\"M897.241 1520.52 L937.44 1520.52 L937.44 1525.93 L920.571 1525.93 L920.571 1568.04 L914.11 1568.04 L914.11 1525.93 L897.241 1525.93 L897.241 1520.52 Z\" fill=\"#000000\" fill-rule=\"nonzero\" fill-opacity=\"1\" /><path clip-path=\"url(#clip390)\" d=\"M954.468 1537.87 Q953.482 1537.3 952.304 1537.04 Q951.158 1536.76 949.758 1536.76 Q944.792 1536.76 942.119 1540 Q939.477 1543.22 939.477 1549.27 L939.477 1568.04 L933.589 1568.04 L933.589 1532.4 L939.477 1532.4 L939.477 1537.93 Q941.323 1534.69 944.283 1533.13 Q947.243 1531.54 951.476 1531.54 Q952.081 1531.54 952.813 1531.63 Q953.545 1531.7 954.436 1531.85 L954.468 1537.87 Z\" fill=\"#000000\" fill-rule=\"nonzero\" fill-opacity=\"1\" /><path clip-path=\"url(#clip390)\" d=\"M976.812 1550.12 Q969.714 1550.12 966.977 1551.75 Q964.24 1553.37 964.24 1557.29 Q964.24 1560.4 966.277 1562.25 Q968.345 1564.07 971.878 1564.07 Q976.748 1564.07 979.676 1560.63 Q982.636 1557.16 982.636 1551.43 L982.636 1550.12 L976.812 1550.12 M988.493 1547.71 L988.493 1568.04 L982.636 1568.04 L982.636 1562.63 Q980.631 1565.88 977.639 1567.44 Q974.648 1568.97 970.319 1568.97 Q964.844 1568.97 961.598 1565.91 Q958.383 1562.82 958.383 1557.67 Q958.383 1551.65 962.394 1548.6 Q966.436 1545.54 974.425 1545.54 L982.636 1545.54 L982.636 1544.97 Q982.636 1540.93 979.963 1538.73 Q977.321 1536.5 972.515 1536.5 Q969.459 1536.5 966.563 1537.23 Q963.667 1537.97 960.993 1539.43 L960.993 1534.02 Q964.208 1532.78 967.231 1532.17 Q970.255 1531.54 973.12 1531.54 Q980.854 1531.54 984.674 1535.55 Q988.493 1539.56 988.493 1547.71 Z\" fill=\"#000000\" fill-rule=\"nonzero\" fill-opacity=\"1\" /><path clip-path=\"url(#clip390)\" d=\"M1024.01 1537.81 L1024.01 1518.52 L1029.87 1518.52 L1029.87 1568.04 L1024.01 1568.04 L1024.01 1562.7 Q1022.17 1565.88 1019.33 1567.44 Q1016.53 1568.97 1012.59 1568.97 Q1006.13 1568.97 1002.05 1563.81 Q998.01 1558.65 998.01 1550.25 Q998.01 1541.85 1002.05 1536.69 Q1006.13 1531.54 1012.59 1531.54 Q1016.53 1531.54 1019.33 1533.1 Q1022.17 1534.62 1024.01 1537.81 M1004.06 1550.25 Q1004.06 1556.71 1006.7 1560.4 Q1009.37 1564.07 1014.02 1564.07 Q1018.67 1564.07 1021.34 1560.4 Q1024.01 1556.71 1024.01 1550.25 Q1024.01 1543.79 1021.34 1540.13 Q1018.67 1536.44 1014.02 1536.44 Q1009.37 1536.44 1006.7 1540.13 Q1004.06 1543.79 1004.06 1550.25 Z\" fill=\"#000000\" fill-rule=\"nonzero\" fill-opacity=\"1\" /><path clip-path=\"url(#clip390)\" d=\"M1041.93 1532.4 L1047.79 1532.4 L1047.79 1568.04 L1041.93 1568.04 L1041.93 1532.4 M1041.93 1518.52 L1047.79 1518.52 L1047.79 1525.93 L1041.93 1525.93 L1041.93 1518.52 Z\" fill=\"#000000\" fill-rule=\"nonzero\" fill-opacity=\"1\" /><path clip-path=\"url(#clip390)\" d=\"M1089.68 1546.53 L1089.68 1568.04 L1083.82 1568.04 L1083.82 1546.72 Q1083.82 1541.66 1081.85 1539.14 Q1079.87 1536.63 1075.93 1536.63 Q1071.18 1536.63 1068.45 1539.65 Q1065.71 1542.68 1065.71 1547.9 L1065.71 1568.04 L1059.82 1568.04 L1059.82 1532.4 L1065.71 1532.4 L1065.71 1537.93 Q1067.81 1534.72 1070.64 1533.13 Q1073.51 1531.54 1077.23 1531.54 Q1083.37 1531.54 1086.52 1535.36 Q1089.68 1539.14 1089.68 1546.53 Z\" fill=\"#000000\" fill-rule=\"nonzero\" fill-opacity=\"1\" /><path clip-path=\"url(#clip390)\" d=\"M1124.81 1549.81 Q1124.81 1543.44 1122.17 1539.94 Q1119.56 1536.44 1114.82 1536.44 Q1110.11 1536.44 1107.47 1539.94 Q1104.86 1543.44 1104.86 1549.81 Q1104.86 1556.14 1107.47 1559.64 Q1110.11 1563.14 1114.82 1563.14 Q1119.56 1563.14 1122.17 1559.64 Q1124.81 1556.14 1124.81 1549.81 M1130.67 1563.62 Q1130.67 1572.72 1126.63 1577.15 Q1122.59 1581.6 1114.25 1581.6 Q1111.16 1581.6 1108.42 1581.13 Q1105.69 1580.68 1103.11 1579.72 L1103.11 1574.03 Q1105.69 1575.43 1108.2 1576.1 Q1110.71 1576.76 1113.32 1576.76 Q1119.09 1576.76 1121.95 1573.74 Q1124.81 1570.75 1124.81 1564.67 L1124.81 1561.77 Q1123 1564.92 1120.17 1566.48 Q1117.33 1568.04 1113.39 1568.04 Q1106.83 1568.04 1102.82 1563.05 Q1098.81 1558.05 1098.81 1549.81 Q1098.81 1541.53 1102.82 1536.53 Q1106.83 1531.54 1113.39 1531.54 Q1117.33 1531.54 1120.17 1533.1 Q1123 1534.66 1124.81 1537.81 L1124.81 1532.4 L1130.67 1532.4 L1130.67 1563.62 Z\" fill=\"#000000\" fill-rule=\"nonzero\" fill-opacity=\"1\" /><path clip-path=\"url(#clip390)\" d=\"M1170.14 1525.81 L1170.14 1562.76 L1177.9 1562.76 Q1187.74 1562.76 1192.29 1558.3 Q1196.87 1553.85 1196.87 1544.24 Q1196.87 1534.69 1192.29 1530.26 Q1187.74 1525.81 1177.9 1525.81 L1170.14 1525.81 M1163.71 1520.52 L1176.92 1520.52 Q1190.73 1520.52 1197.19 1526.28 Q1203.65 1532.01 1203.65 1544.24 Q1203.65 1556.52 1197.16 1562.28 Q1190.67 1568.04 1176.92 1568.04 L1163.71 1568.04 L1163.71 1520.52 Z\" fill=\"#000000\" fill-rule=\"nonzero\" fill-opacity=\"1\" /><path clip-path=\"url(#clip390)\" d=\"M1229.85 1550.12 Q1222.75 1550.12 1220.01 1551.75 Q1217.28 1553.37 1217.28 1557.29 Q1217.28 1560.4 1219.31 1562.25 Q1221.38 1564.07 1224.92 1564.07 Q1229.79 1564.07 1232.71 1560.63 Q1235.67 1557.16 1235.67 1551.43 L1235.67 1550.12 L1229.85 1550.12 M1241.53 1547.71 L1241.53 1568.04 L1235.67 1568.04 L1235.67 1562.63 Q1233.67 1565.88 1230.68 1567.44 Q1227.68 1568.97 1223.36 1568.97 Q1217.88 1568.97 1214.63 1565.91 Q1211.42 1562.82 1211.42 1557.67 Q1211.42 1551.65 1215.43 1548.6 Q1219.47 1545.54 1227.46 1545.54 L1235.67 1545.54 L1235.67 1544.97 Q1235.67 1540.93 1233 1538.73 Q1230.36 1536.5 1225.55 1536.5 Q1222.5 1536.5 1219.6 1537.23 Q1216.7 1537.97 1214.03 1539.43 L1214.03 1534.02 Q1217.24 1532.78 1220.27 1532.17 Q1223.29 1531.54 1226.16 1531.54 Q1233.89 1531.54 1237.71 1535.55 Q1241.53 1539.56 1241.53 1547.71 Z\" fill=\"#000000\" fill-rule=\"nonzero\" fill-opacity=\"1\" /><path clip-path=\"url(#clip390)\" d=\"M1268.42 1571.35 Q1265.94 1577.72 1263.59 1579.66 Q1261.23 1581.6 1257.28 1581.6 L1252.61 1581.6 L1252.61 1576.7 L1256.04 1576.7 Q1258.46 1576.7 1259.8 1575.56 Q1261.14 1574.41 1262.76 1570.14 L1263.81 1567.47 L1249.39 1532.4 L1255.6 1532.4 L1266.74 1560.28 L1277.88 1532.4 L1284.08 1532.4 L1268.42 1571.35 Z\" fill=\"#000000\" fill-rule=\"nonzero\" fill-opacity=\"1\" /><path clip-path=\"url(#clip390)\" d=\"M1313.14 1520.52 L1319.57 1520.52 L1319.57 1568.04 L1313.14 1568.04 L1313.14 1520.52 Z\" fill=\"#000000\" fill-rule=\"nonzero\" fill-opacity=\"1\" /><path clip-path=\"url(#clip390)\" d=\"M1361.75 1546.53 L1361.75 1568.04 L1355.89 1568.04 L1355.89 1546.72 Q1355.89 1541.66 1353.92 1539.14 Q1351.94 1536.63 1348 1536.63 Q1343.25 1536.63 1340.52 1539.65 Q1337.78 1542.68 1337.78 1547.9 L1337.78 1568.04 L1331.89 1568.04 L1331.89 1532.4 L1337.78 1532.4 L1337.78 1537.93 Q1339.88 1534.72 1342.71 1533.13 Q1345.58 1531.54 1349.3 1531.54 Q1355.44 1531.54 1358.6 1535.36 Q1361.75 1539.14 1361.75 1546.53 Z\" fill=\"#000000\" fill-rule=\"nonzero\" fill-opacity=\"1\" /><path clip-path=\"url(#clip390)\" d=\"M1396.88 1537.81 L1396.88 1518.52 L1402.74 1518.52 L1402.74 1568.04 L1396.88 1568.04 L1396.88 1562.7 Q1395.04 1565.88 1392.21 1567.44 Q1389.41 1568.97 1385.46 1568.97 Q1379 1568.97 1374.92 1563.81 Q1370.88 1558.65 1370.88 1550.25 Q1370.88 1541.85 1374.92 1536.69 Q1379 1531.54 1385.46 1531.54 Q1389.41 1531.54 1392.21 1533.1 Q1395.04 1534.62 1396.88 1537.81 M1376.93 1550.25 Q1376.93 1556.71 1379.57 1560.4 Q1382.24 1564.07 1386.89 1564.07 Q1391.54 1564.07 1394.21 1560.4 Q1396.88 1556.71 1396.88 1550.25 Q1396.88 1543.79 1394.21 1540.13 Q1391.54 1536.44 1386.89 1536.44 Q1382.24 1536.44 1379.57 1540.13 Q1376.93 1543.79 1376.93 1550.25 Z\" fill=\"#000000\" fill-rule=\"nonzero\" fill-opacity=\"1\" /><path clip-path=\"url(#clip390)\" d=\"M1445.3 1548.76 L1445.3 1551.62 L1418.37 1551.62 Q1418.75 1557.67 1422 1560.85 Q1425.28 1564 1431.1 1564 Q1434.47 1564 1437.63 1563.17 Q1440.81 1562.35 1443.93 1560.69 L1443.93 1566.23 Q1440.78 1567.57 1437.47 1568.27 Q1434.16 1568.97 1430.75 1568.97 Q1422.22 1568.97 1417.22 1564 Q1412.26 1559.04 1412.26 1550.57 Q1412.26 1541.82 1416.97 1536.69 Q1421.71 1531.54 1429.73 1531.54 Q1436.93 1531.54 1441.09 1536.18 Q1445.3 1540.8 1445.3 1548.76 M1439.44 1547.04 Q1439.38 1542.23 1436.73 1539.37 Q1434.12 1536.5 1429.8 1536.5 Q1424.89 1536.5 1421.93 1539.27 Q1419.01 1542.04 1418.56 1547.07 L1439.44 1547.04 Z\" fill=\"#000000\" fill-rule=\"nonzero\" fill-opacity=\"1\" /><path clip-path=\"url(#clip390)\" d=\"M1483.39 1532.4 L1470.5 1549.74 L1484.06 1568.04 L1477.16 1568.04 L1466.78 1554.04 L1456.4 1568.04 L1449.5 1568.04 L1463.34 1549.39 L1450.68 1532.4 L1457.58 1532.4 L1467.03 1545.1 L1476.49 1532.4 L1483.39 1532.4 Z\" fill=\"#000000\" fill-rule=\"nonzero\" fill-opacity=\"1\" /><path clip-path=\"url(#clip390)\" d=\"M1527.13 1518.58 Q1522.86 1525.9 1520.79 1533.06 Q1518.72 1540.23 1518.72 1547.58 Q1518.72 1554.93 1520.79 1562.16 Q1522.89 1569.35 1527.13 1576.64 L1522.03 1576.64 Q1517.26 1569.16 1514.87 1561.93 Q1512.52 1554.71 1512.52 1547.58 Q1512.52 1540.48 1514.87 1533.29 Q1517.23 1526.09 1522.03 1518.58 L1527.13 1518.58 Z\" fill=\"#000000\" fill-rule=\"nonzero\" fill-opacity=\"1\" /><path clip-path=\"url(#clip390)\" d=\"M1544.86 1562.63 L1567.29 1562.63 L1567.29 1568.04 L1537.12 1568.04 L1537.12 1562.63 Q1540.78 1558.85 1547.08 1552.48 Q1553.42 1546.08 1555.04 1544.24 Q1558.13 1540.77 1559.34 1538.38 Q1560.58 1535.96 1560.58 1533.64 Q1560.58 1529.85 1557.91 1527.46 Q1555.26 1525.08 1551 1525.08 Q1547.97 1525.08 1544.6 1526.13 Q1541.26 1527.18 1537.44 1529.31 L1537.44 1522.82 Q1541.32 1521.26 1544.7 1520.46 Q1548.07 1519.66 1550.87 1519.66 Q1558.26 1519.66 1562.65 1523.36 Q1567.04 1527.05 1567.04 1533.22 Q1567.04 1536.15 1565.93 1538.79 Q1564.84 1541.4 1561.95 1544.97 Q1561.15 1545.89 1556.89 1550.32 Q1552.62 1554.71 1544.86 1562.63 Z\" fill=\"#000000\" fill-rule=\"nonzero\" fill-opacity=\"1\" /><path clip-path=\"url(#clip390)\" d=\"M1594.54 1524.76 Q1589.57 1524.76 1587.06 1529.66 Q1584.58 1534.53 1584.58 1544.33 Q1584.58 1554.1 1587.06 1559 Q1589.57 1563.87 1594.54 1563.87 Q1599.54 1563.87 1602.02 1559 Q1604.53 1554.1 1604.53 1544.33 Q1604.53 1534.53 1602.02 1529.66 Q1599.54 1524.76 1594.54 1524.76 M1594.54 1519.66 Q1602.53 1519.66 1606.73 1526 Q1610.96 1532.3 1610.96 1544.33 Q1610.96 1556.33 1606.73 1562.66 Q1602.53 1568.97 1594.54 1568.97 Q1586.55 1568.97 1582.32 1562.66 Q1578.12 1556.33 1578.12 1544.33 Q1578.12 1532.3 1582.32 1526 Q1586.55 1519.66 1594.54 1519.66 Z\" fill=\"#000000\" fill-rule=\"nonzero\" fill-opacity=\"1\" /><path clip-path=\"url(#clip390)\" d=\"M1627.8 1562.63 L1650.24 1562.63 L1650.24 1568.04 L1620.07 1568.04 L1620.07 1562.63 Q1623.73 1558.85 1630.03 1552.48 Q1636.36 1546.08 1637.99 1544.24 Q1641.07 1540.77 1642.28 1538.38 Q1643.52 1535.96 1643.52 1533.64 Q1643.52 1529.85 1640.85 1527.46 Q1638.21 1525.08 1633.94 1525.08 Q1630.92 1525.08 1627.55 1526.13 Q1624.2 1527.18 1620.38 1529.31 L1620.38 1522.82 Q1624.27 1521.26 1627.64 1520.46 Q1631.02 1519.66 1633.82 1519.66 Q1641.2 1519.66 1645.59 1523.36 Q1649.99 1527.05 1649.99 1533.22 Q1649.99 1536.15 1648.87 1538.79 Q1647.79 1541.4 1644.89 1544.97 Q1644.1 1545.89 1639.83 1550.32 Q1635.57 1554.71 1627.8 1562.63 Z\" fill=\"#000000\" fill-rule=\"nonzero\" fill-opacity=\"1\" /><path clip-path=\"url(#clip390)\" d=\"M1663.8 1520.52 L1689.04 1520.52 L1689.04 1525.93 L1669.69 1525.93 L1669.69 1537.58 Q1671.09 1537.11 1672.49 1536.88 Q1673.89 1536.63 1675.29 1536.63 Q1683.25 1536.63 1687.89 1540.99 Q1692.54 1545.35 1692.54 1552.8 Q1692.54 1560.47 1687.77 1564.73 Q1682.99 1568.97 1674.3 1568.97 Q1671.31 1568.97 1668.19 1568.46 Q1665.1 1567.95 1661.79 1566.93 L1661.79 1560.47 Q1664.66 1562.03 1667.71 1562.79 Q1670.77 1563.56 1674.18 1563.56 Q1679.68 1563.56 1682.9 1560.66 Q1686.11 1557.76 1686.11 1552.8 Q1686.11 1547.83 1682.9 1544.94 Q1679.68 1542.04 1674.18 1542.04 Q1671.6 1542.04 1669.02 1542.61 Q1666.47 1543.19 1663.8 1544.4 L1663.8 1520.52 Z\" fill=\"#000000\" fill-rule=\"nonzero\" fill-opacity=\"1\" /><path clip-path=\"url(#clip390)\" d=\"M1703.46 1518.58 L1708.55 1518.58 Q1713.32 1526.09 1715.68 1533.29 Q1718.07 1540.48 1718.07 1547.58 Q1718.07 1554.71 1715.68 1561.93 Q1713.32 1569.16 1708.55 1576.64 L1703.46 1576.64 Q1707.69 1569.35 1709.76 1562.16 Q1711.86 1554.93 1711.86 1547.58 Q1711.86 1540.23 1709.76 1533.06 Q1707.69 1525.9 1703.46 1518.58 Z\" fill=\"#000000\" fill-rule=\"nonzero\" fill-opacity=\"1\" /><polyline clip-path=\"url(#clip390)\" style=\"stroke:#000000; stroke-linecap:round; stroke-linejoin:round; stroke-width:4; stroke-opacity:1; fill:none\" points=\"262.551,1423.18 262.551,47.2441 \"/>\n",
       "<polyline clip-path=\"url(#clip390)\" style=\"stroke:#000000; stroke-linecap:round; stroke-linejoin:round; stroke-width:4; stroke-opacity:1; fill:none\" points=\"2352.76,1423.18 2352.76,47.2441 \"/>\n",
       "<polyline clip-path=\"url(#clip390)\" style=\"stroke:#000000; stroke-linecap:round; stroke-linejoin:round; stroke-width:4; stroke-opacity:1; fill:none\" points=\"262.551,1361.99 281.449,1361.99 \"/>\n",
       "<polyline clip-path=\"url(#clip390)\" style=\"stroke:#000000; stroke-linecap:round; stroke-linejoin:round; stroke-width:4; stroke-opacity:1; fill:none\" points=\"262.551,1138.15 281.449,1138.15 \"/>\n",
       "<polyline clip-path=\"url(#clip390)\" style=\"stroke:#000000; stroke-linecap:round; stroke-linejoin:round; stroke-width:4; stroke-opacity:1; fill:none\" points=\"262.551,914.319 281.449,914.319 \"/>\n",
       "<polyline clip-path=\"url(#clip390)\" style=\"stroke:#000000; stroke-linecap:round; stroke-linejoin:round; stroke-width:4; stroke-opacity:1; fill:none\" points=\"262.551,690.486 281.449,690.486 \"/>\n",
       "<polyline clip-path=\"url(#clip390)\" style=\"stroke:#000000; stroke-linecap:round; stroke-linejoin:round; stroke-width:4; stroke-opacity:1; fill:none\" points=\"262.551,466.652 281.449,466.652 \"/>\n",
       "<polyline clip-path=\"url(#clip390)\" style=\"stroke:#000000; stroke-linecap:round; stroke-linejoin:round; stroke-width:4; stroke-opacity:1; fill:none\" points=\"262.551,242.819 281.449,242.819 \"/>\n",
       "<polyline clip-path=\"url(#clip390)\" style=\"stroke:#000000; stroke-linecap:round; stroke-linejoin:round; stroke-width:4; stroke-opacity:1; fill:none\" points=\"2352.76,1361.99 2333.86,1361.99 \"/>\n",
       "<polyline clip-path=\"url(#clip390)\" style=\"stroke:#000000; stroke-linecap:round; stroke-linejoin:round; stroke-width:4; stroke-opacity:1; fill:none\" points=\"2352.76,1138.15 2333.86,1138.15 \"/>\n",
       "<polyline clip-path=\"url(#clip390)\" style=\"stroke:#000000; stroke-linecap:round; stroke-linejoin:round; stroke-width:4; stroke-opacity:1; fill:none\" points=\"2352.76,914.319 2333.86,914.319 \"/>\n",
       "<polyline clip-path=\"url(#clip390)\" style=\"stroke:#000000; stroke-linecap:round; stroke-linejoin:round; stroke-width:4; stroke-opacity:1; fill:none\" points=\"2352.76,690.486 2333.86,690.486 \"/>\n",
       "<polyline clip-path=\"url(#clip390)\" style=\"stroke:#000000; stroke-linecap:round; stroke-linejoin:round; stroke-width:4; stroke-opacity:1; fill:none\" points=\"2352.76,466.652 2333.86,466.652 \"/>\n",
       "<polyline clip-path=\"url(#clip390)\" style=\"stroke:#000000; stroke-linecap:round; stroke-linejoin:round; stroke-width:4; stroke-opacity:1; fill:none\" points=\"2352.76,242.819 2333.86,242.819 \"/>\n",
       "<path clip-path=\"url(#clip390)\" d=\"M154.283 1362.85 Q150.95 1362.85 149.028 1364.64 Q147.13 1366.42 147.13 1369.54 Q147.13 1372.67 149.028 1374.45 Q150.95 1376.23 154.283 1376.23 Q157.616 1376.23 159.538 1374.45 Q161.459 1372.65 161.459 1369.54 Q161.459 1366.42 159.538 1364.64 Q157.64 1362.85 154.283 1362.85 M149.607 1360.86 Q146.598 1360.12 144.908 1358.06 Q143.241 1356 143.241 1353.04 Q143.241 1348.9 146.181 1346.49 Q149.144 1344.08 154.283 1344.08 Q159.445 1344.08 162.385 1346.49 Q165.325 1348.9 165.325 1353.04 Q165.325 1356 163.635 1358.06 Q161.968 1360.12 158.982 1360.86 Q162.362 1361.65 164.237 1363.94 Q166.135 1366.23 166.135 1369.54 Q166.135 1374.57 163.056 1377.25 Q160.001 1379.94 154.283 1379.94 Q148.566 1379.94 145.487 1377.25 Q142.431 1374.57 142.431 1369.54 Q142.431 1366.23 144.329 1363.94 Q146.228 1361.65 149.607 1360.86 M147.894 1353.48 Q147.894 1356.16 149.561 1357.67 Q151.251 1359.17 154.283 1359.17 Q157.292 1359.17 158.982 1357.67 Q160.695 1356.16 160.695 1353.48 Q160.695 1350.79 158.982 1349.29 Q157.292 1347.78 154.283 1347.78 Q151.251 1347.78 149.561 1349.29 Q147.894 1350.79 147.894 1353.48 Z\" fill=\"#000000\" fill-rule=\"nonzero\" fill-opacity=\"1\" /><path clip-path=\"url(#clip390)\" d=\"M174.491 1344.71 L192.848 1344.71 L192.848 1348.64 L178.774 1348.64 L178.774 1357.11 Q179.792 1356.77 180.811 1356.6 Q181.829 1356.42 182.848 1356.42 Q188.635 1356.42 192.014 1359.59 Q195.394 1362.76 195.394 1368.18 Q195.394 1373.76 191.922 1376.86 Q188.45 1379.94 182.13 1379.94 Q179.954 1379.94 177.686 1379.57 Q175.44 1379.2 173.033 1378.46 L173.033 1373.76 Q175.116 1374.89 177.339 1375.45 Q179.561 1376 182.038 1376 Q186.042 1376 188.38 1373.9 Q190.718 1371.79 190.718 1368.18 Q190.718 1364.57 188.38 1362.46 Q186.042 1360.35 182.038 1360.35 Q180.163 1360.35 178.288 1360.77 Q176.436 1361.19 174.491 1362.07 L174.491 1344.71 Z\" fill=\"#000000\" fill-rule=\"nonzero\" fill-opacity=\"1\" /><path clip-path=\"url(#clip390)\" d=\"M214.607 1347.78 Q210.996 1347.78 209.167 1351.35 Q207.362 1354.89 207.362 1362.02 Q207.362 1369.13 209.167 1372.69 Q210.996 1376.23 214.607 1376.23 Q218.241 1376.23 220.047 1372.69 Q221.875 1369.13 221.875 1362.02 Q221.875 1354.89 220.047 1351.35 Q218.241 1347.78 214.607 1347.78 M214.607 1344.08 Q220.417 1344.08 223.473 1348.69 Q226.551 1353.27 226.551 1362.02 Q226.551 1370.75 223.473 1375.35 Q220.417 1379.94 214.607 1379.94 Q208.797 1379.94 205.718 1375.35 Q202.662 1370.75 202.662 1362.02 Q202.662 1353.27 205.718 1348.69 Q208.797 1344.08 214.607 1344.08 Z\" fill=\"#000000\" fill-rule=\"nonzero\" fill-opacity=\"1\" /><path clip-path=\"url(#clip390)\" d=\"M144.422 1154.71 L144.422 1150.46 Q146.181 1151.29 147.987 1151.73 Q149.792 1152.17 151.528 1152.17 Q156.158 1152.17 158.589 1149.07 Q161.042 1145.94 161.39 1139.6 Q160.047 1141.59 157.987 1142.65 Q155.927 1143.72 153.427 1143.72 Q148.241 1143.72 145.209 1140.59 Q142.2 1137.45 142.2 1132.01 Q142.2 1126.68 145.348 1123.46 Q148.496 1120.25 153.728 1120.25 Q159.723 1120.25 162.871 1124.85 Q166.042 1129.44 166.042 1138.19 Q166.042 1146.36 162.153 1151.24 Q158.288 1156.1 151.737 1156.1 Q149.978 1156.1 148.172 1155.76 Q146.366 1155.41 144.422 1154.71 M153.728 1140.06 Q156.876 1140.06 158.704 1137.91 Q160.556 1135.76 160.556 1132.01 Q160.556 1128.28 158.704 1126.13 Q156.876 1123.95 153.728 1123.95 Q150.579 1123.95 148.728 1126.13 Q146.899 1128.28 146.899 1132.01 Q146.899 1135.76 148.728 1137.91 Q150.579 1140.06 153.728 1140.06 Z\" fill=\"#000000\" fill-rule=\"nonzero\" fill-opacity=\"1\" /><path clip-path=\"url(#clip390)\" d=\"M184.445 1123.95 Q180.834 1123.95 179.005 1127.52 Q177.2 1131.06 177.2 1138.19 Q177.2 1145.29 179.005 1148.86 Q180.834 1152.4 184.445 1152.4 Q188.079 1152.4 189.885 1148.86 Q191.713 1145.29 191.713 1138.19 Q191.713 1131.06 189.885 1127.52 Q188.079 1123.95 184.445 1123.95 M184.445 1120.25 Q190.255 1120.25 193.311 1124.85 Q196.389 1129.44 196.389 1138.19 Q196.389 1146.91 193.311 1151.52 Q190.255 1156.1 184.445 1156.1 Q178.635 1156.1 175.556 1151.52 Q172.501 1146.91 172.501 1138.19 Q172.501 1129.44 175.556 1124.85 Q178.635 1120.25 184.445 1120.25 Z\" fill=\"#000000\" fill-rule=\"nonzero\" fill-opacity=\"1\" /><path clip-path=\"url(#clip390)\" d=\"M214.607 1123.95 Q210.996 1123.95 209.167 1127.52 Q207.362 1131.06 207.362 1138.19 Q207.362 1145.29 209.167 1148.86 Q210.996 1152.4 214.607 1152.4 Q218.241 1152.4 220.047 1148.86 Q221.875 1145.29 221.875 1138.19 Q221.875 1131.06 220.047 1127.52 Q218.241 1123.95 214.607 1123.95 M214.607 1120.25 Q220.417 1120.25 223.473 1124.85 Q226.551 1129.44 226.551 1138.19 Q226.551 1146.91 223.473 1151.52 Q220.417 1156.1 214.607 1156.1 Q208.797 1156.1 205.718 1151.52 Q202.662 1146.91 202.662 1138.19 Q202.662 1129.44 205.718 1124.85 Q208.797 1120.25 214.607 1120.25 Z\" fill=\"#000000\" fill-rule=\"nonzero\" fill-opacity=\"1\" /><path clip-path=\"url(#clip390)\" d=\"M144.422 930.881 L144.422 926.622 Q146.181 927.456 147.987 927.895 Q149.792 928.335 151.528 928.335 Q156.158 928.335 158.589 925.233 Q161.042 922.108 161.39 915.766 Q160.047 917.756 157.987 918.821 Q155.927 919.886 153.427 919.886 Q148.241 919.886 145.209 916.761 Q142.2 913.613 142.2 908.173 Q142.2 902.849 145.348 899.632 Q148.496 896.414 153.728 896.414 Q159.723 896.414 162.871 901.02 Q166.042 905.604 166.042 914.354 Q166.042 922.525 162.153 927.409 Q158.288 932.27 151.737 932.27 Q149.978 932.27 148.172 931.923 Q146.366 931.576 144.422 930.881 M153.728 916.229 Q156.876 916.229 158.704 914.076 Q160.556 911.923 160.556 908.173 Q160.556 904.446 158.704 902.294 Q156.876 900.118 153.728 900.118 Q150.579 900.118 148.728 902.294 Q146.899 904.446 146.899 908.173 Q146.899 911.923 148.728 914.076 Q150.579 916.229 153.728 916.229 Z\" fill=\"#000000\" fill-rule=\"nonzero\" fill-opacity=\"1\" /><path clip-path=\"url(#clip390)\" d=\"M174.491 897.039 L192.848 897.039 L192.848 900.974 L178.774 900.974 L178.774 909.446 Q179.792 909.099 180.811 908.937 Q181.829 908.752 182.848 908.752 Q188.635 908.752 192.014 911.923 Q195.394 915.094 195.394 920.511 Q195.394 926.09 191.922 929.192 Q188.45 932.27 182.13 932.27 Q179.954 932.27 177.686 931.9 Q175.44 931.53 173.033 930.789 L173.033 926.09 Q175.116 927.224 177.339 927.78 Q179.561 928.335 182.038 928.335 Q186.042 928.335 188.38 926.229 Q190.718 924.122 190.718 920.511 Q190.718 916.9 188.38 914.794 Q186.042 912.687 182.038 912.687 Q180.163 912.687 178.288 913.104 Q176.436 913.52 174.491 914.4 L174.491 897.039 Z\" fill=\"#000000\" fill-rule=\"nonzero\" fill-opacity=\"1\" /><path clip-path=\"url(#clip390)\" d=\"M214.607 900.118 Q210.996 900.118 209.167 903.682 Q207.362 907.224 207.362 914.354 Q207.362 921.46 209.167 925.025 Q210.996 928.567 214.607 928.567 Q218.241 928.567 220.047 925.025 Q221.875 921.46 221.875 914.354 Q221.875 907.224 220.047 903.682 Q218.241 900.118 214.607 900.118 M214.607 896.414 Q220.417 896.414 223.473 901.02 Q226.551 905.604 226.551 914.354 Q226.551 923.081 223.473 927.687 Q220.417 932.27 214.607 932.27 Q208.797 932.27 205.718 927.687 Q202.662 923.081 202.662 914.354 Q202.662 905.604 205.718 901.02 Q208.797 896.414 214.607 896.414 Z\" fill=\"#000000\" fill-rule=\"nonzero\" fill-opacity=\"1\" /><path clip-path=\"url(#clip390)\" d=\"M114.931 703.831 L122.57 703.831 L122.57 677.465 L114.26 679.132 L114.26 674.872 L122.524 673.206 L127.2 673.206 L127.2 703.831 L134.839 703.831 L134.839 707.766 L114.931 707.766 L114.931 703.831 Z\" fill=\"#000000\" fill-rule=\"nonzero\" fill-opacity=\"1\" /><path clip-path=\"url(#clip390)\" d=\"M154.283 676.284 Q150.672 676.284 148.843 679.849 Q147.038 683.391 147.038 690.52 Q147.038 697.627 148.843 701.192 Q150.672 704.733 154.283 704.733 Q157.917 704.733 159.723 701.192 Q161.552 697.627 161.552 690.52 Q161.552 683.391 159.723 679.849 Q157.917 676.284 154.283 676.284 M154.283 672.581 Q160.093 672.581 163.149 677.187 Q166.227 681.77 166.227 690.52 Q166.227 699.247 163.149 703.854 Q160.093 708.437 154.283 708.437 Q148.473 708.437 145.394 703.854 Q142.339 699.247 142.339 690.52 Q142.339 681.77 145.394 677.187 Q148.473 672.581 154.283 672.581 Z\" fill=\"#000000\" fill-rule=\"nonzero\" fill-opacity=\"1\" /><path clip-path=\"url(#clip390)\" d=\"M184.445 676.284 Q180.834 676.284 179.005 679.849 Q177.2 683.391 177.2 690.52 Q177.2 697.627 179.005 701.192 Q180.834 704.733 184.445 704.733 Q188.079 704.733 189.885 701.192 Q191.713 697.627 191.713 690.52 Q191.713 683.391 189.885 679.849 Q188.079 676.284 184.445 676.284 M184.445 672.581 Q190.255 672.581 193.311 677.187 Q196.389 681.77 196.389 690.52 Q196.389 699.247 193.311 703.854 Q190.255 708.437 184.445 708.437 Q178.635 708.437 175.556 703.854 Q172.501 699.247 172.501 690.52 Q172.501 681.77 175.556 677.187 Q178.635 672.581 184.445 672.581 Z\" fill=\"#000000\" fill-rule=\"nonzero\" fill-opacity=\"1\" /><path clip-path=\"url(#clip390)\" d=\"M214.607 676.284 Q210.996 676.284 209.167 679.849 Q207.362 683.391 207.362 690.52 Q207.362 697.627 209.167 701.192 Q210.996 704.733 214.607 704.733 Q218.241 704.733 220.047 701.192 Q221.875 697.627 221.875 690.52 Q221.875 683.391 220.047 679.849 Q218.241 676.284 214.607 676.284 M214.607 672.581 Q220.417 672.581 223.473 677.187 Q226.551 681.77 226.551 690.52 Q226.551 699.247 223.473 703.854 Q220.417 708.437 214.607 708.437 Q208.797 708.437 205.718 703.854 Q202.662 699.247 202.662 690.52 Q202.662 681.77 205.718 677.187 Q208.797 672.581 214.607 672.581 Z\" fill=\"#000000\" fill-rule=\"nonzero\" fill-opacity=\"1\" /><path clip-path=\"url(#clip390)\" d=\"M114.931 479.997 L122.57 479.997 L122.57 453.632 L114.26 455.298 L114.26 451.039 L122.524 449.372 L127.2 449.372 L127.2 479.997 L134.839 479.997 L134.839 483.932 L114.931 483.932 L114.931 479.997 Z\" fill=\"#000000\" fill-rule=\"nonzero\" fill-opacity=\"1\" /><path clip-path=\"url(#clip390)\" d=\"M154.283 452.451 Q150.672 452.451 148.843 456.016 Q147.038 459.558 147.038 466.687 Q147.038 473.794 148.843 477.358 Q150.672 480.9 154.283 480.9 Q157.917 480.9 159.723 477.358 Q161.552 473.794 161.552 466.687 Q161.552 459.558 159.723 456.016 Q157.917 452.451 154.283 452.451 M154.283 448.747 Q160.093 448.747 163.149 453.354 Q166.227 457.937 166.227 466.687 Q166.227 475.414 163.149 480.02 Q160.093 484.604 154.283 484.604 Q148.473 484.604 145.394 480.02 Q142.339 475.414 142.339 466.687 Q142.339 457.937 145.394 453.354 Q148.473 448.747 154.283 448.747 Z\" fill=\"#000000\" fill-rule=\"nonzero\" fill-opacity=\"1\" /><path clip-path=\"url(#clip390)\" d=\"M174.491 449.372 L192.848 449.372 L192.848 453.308 L178.774 453.308 L178.774 461.78 Q179.792 461.433 180.811 461.27 Q181.829 461.085 182.848 461.085 Q188.635 461.085 192.014 464.257 Q195.394 467.428 195.394 472.844 Q195.394 478.423 191.922 481.525 Q188.45 484.604 182.13 484.604 Q179.954 484.604 177.686 484.233 Q175.44 483.863 173.033 483.122 L173.033 478.423 Q175.116 479.557 177.339 480.113 Q179.561 480.669 182.038 480.669 Q186.042 480.669 188.38 478.562 Q190.718 476.456 190.718 472.844 Q190.718 469.233 188.38 467.127 Q186.042 465.02 182.038 465.02 Q180.163 465.02 178.288 465.437 Q176.436 465.854 174.491 466.733 L174.491 449.372 Z\" fill=\"#000000\" fill-rule=\"nonzero\" fill-opacity=\"1\" /><path clip-path=\"url(#clip390)\" d=\"M214.607 452.451 Q210.996 452.451 209.167 456.016 Q207.362 459.558 207.362 466.687 Q207.362 473.794 209.167 477.358 Q210.996 480.9 214.607 480.9 Q218.241 480.9 220.047 477.358 Q221.875 473.794 221.875 466.687 Q221.875 459.558 220.047 456.016 Q218.241 452.451 214.607 452.451 M214.607 448.747 Q220.417 448.747 223.473 453.354 Q226.551 457.937 226.551 466.687 Q226.551 475.414 223.473 480.02 Q220.417 484.604 214.607 484.604 Q208.797 484.604 205.718 480.02 Q202.662 475.414 202.662 466.687 Q202.662 457.937 205.718 453.354 Q208.797 448.747 214.607 448.747 Z\" fill=\"#000000\" fill-rule=\"nonzero\" fill-opacity=\"1\" /><path clip-path=\"url(#clip390)\" d=\"M114.931 256.164 L122.57 256.164 L122.57 229.798 L114.26 231.465 L114.26 227.206 L122.524 225.539 L127.2 225.539 L127.2 256.164 L134.839 256.164 L134.839 260.099 L114.931 260.099 L114.931 256.164 Z\" fill=\"#000000\" fill-rule=\"nonzero\" fill-opacity=\"1\" /><path clip-path=\"url(#clip390)\" d=\"M145.093 256.164 L152.732 256.164 L152.732 229.798 L144.422 231.465 L144.422 227.206 L152.686 225.539 L157.362 225.539 L157.362 256.164 L165.001 256.164 L165.001 260.099 L145.093 260.099 L145.093 256.164 Z\" fill=\"#000000\" fill-rule=\"nonzero\" fill-opacity=\"1\" /><path clip-path=\"url(#clip390)\" d=\"M184.445 228.618 Q180.834 228.618 179.005 232.183 Q177.2 235.724 177.2 242.854 Q177.2 249.96 179.005 253.525 Q180.834 257.067 184.445 257.067 Q188.079 257.067 189.885 253.525 Q191.713 249.96 191.713 242.854 Q191.713 235.724 189.885 232.183 Q188.079 228.618 184.445 228.618 M184.445 224.914 Q190.255 224.914 193.311 229.521 Q196.389 234.104 196.389 242.854 Q196.389 251.581 193.311 256.187 Q190.255 260.77 184.445 260.77 Q178.635 260.77 175.556 256.187 Q172.501 251.581 172.501 242.854 Q172.501 234.104 175.556 229.521 Q178.635 224.914 184.445 224.914 Z\" fill=\"#000000\" fill-rule=\"nonzero\" fill-opacity=\"1\" /><path clip-path=\"url(#clip390)\" d=\"M214.607 228.618 Q210.996 228.618 209.167 232.183 Q207.362 235.724 207.362 242.854 Q207.362 249.96 209.167 253.525 Q210.996 257.067 214.607 257.067 Q218.241 257.067 220.047 253.525 Q221.875 249.96 221.875 242.854 Q221.875 235.724 220.047 232.183 Q218.241 228.618 214.607 228.618 M214.607 224.914 Q220.417 224.914 223.473 229.521 Q226.551 234.104 226.551 242.854 Q226.551 251.581 223.473 256.187 Q220.417 260.77 214.607 260.77 Q208.797 260.77 205.718 256.187 Q202.662 251.581 202.662 242.854 Q202.662 234.104 205.718 229.521 Q208.797 224.914 214.607 224.914 Z\" fill=\"#000000\" fill-rule=\"nonzero\" fill-opacity=\"1\" /><path clip-path=\"url(#clip390)\" d=\"M16.4842 1049.68 L16.4842 1043.18 L56.6518 1033.19 L16.4842 1023.23 L16.4842 1016 L56.6518 1006.01 L16.4842 996.047 L16.4842 989.522 L64.0042 1001.46 L64.0042 1009.54 L22.7544 1019.57 L64.0042 1029.69 L64.0042 1037.77 L16.4842 1049.68 Z\" fill=\"#000000\" fill-rule=\"nonzero\" fill-opacity=\"1\" /><path clip-path=\"url(#clip390)\" d=\"M44.7161 954.574 L47.5806 954.574 L47.5806 981.501 Q53.6281 981.119 56.8109 977.873 Q59.9619 974.594 59.9619 968.77 Q59.9619 965.396 59.1344 962.245 Q58.3069 959.062 56.6518 955.943 L62.1899 955.943 Q63.5267 959.094 64.227 962.404 Q64.9272 965.714 64.9272 969.12 Q64.9272 977.65 59.9619 982.647 Q54.9967 987.612 46.5303 987.612 Q37.7774 987.612 32.6531 982.902 Q27.4968 978.159 27.4968 970.138 Q27.4968 962.945 32.1438 958.776 Q36.7589 954.574 44.7161 954.574 M42.9973 960.431 Q38.1912 960.494 35.3266 963.136 Q32.4621 965.746 32.4621 970.075 Q32.4621 974.976 35.2312 977.936 Q38.0002 980.865 43.0292 981.31 L42.9973 960.431 Z\" fill=\"#000000\" fill-rule=\"nonzero\" fill-opacity=\"1\" /><path clip-path=\"url(#clip390)\" d=\"M46.0847 928.761 Q46.0847 935.859 47.7079 938.596 Q49.3312 941.334 53.2461 941.334 Q56.3653 941.334 58.2114 939.297 Q60.0256 937.228 60.0256 933.695 Q60.0256 928.825 56.5881 925.897 Q53.1188 922.937 47.3897 922.937 L46.0847 922.937 L46.0847 928.761 M43.6657 917.08 L64.0042 917.08 L64.0042 922.937 L58.5933 922.937 Q61.8398 924.942 63.3994 927.934 Q64.9272 930.926 64.9272 935.254 Q64.9272 940.729 61.8716 943.975 Q58.7843 947.19 53.6281 947.19 Q47.6125 947.19 44.5569 943.18 Q41.5014 939.137 41.5014 931.148 L41.5014 922.937 L40.9285 922.937 Q36.8862 922.937 34.6901 925.61 Q32.4621 928.252 32.4621 933.058 Q32.4621 936.114 33.1941 939.01 Q33.9262 941.906 35.3903 944.58 L29.9795 944.58 Q28.7381 941.365 28.1334 938.342 Q27.4968 935.318 27.4968 932.453 Q27.4968 924.719 31.5072 920.9 Q35.5176 917.08 43.6657 917.08 Z\" fill=\"#000000\" fill-rule=\"nonzero\" fill-opacity=\"1\" /><path clip-path=\"url(#clip390)\" d=\"M14.479 905.017 L14.479 899.161 L64.0042 899.161 L64.0042 905.017 L14.479 905.017 Z\" fill=\"#000000\" fill-rule=\"nonzero\" fill-opacity=\"1\" /><path clip-path=\"url(#clip390)\" d=\"M18.2347 881.114 L28.3562 881.114 L28.3562 869.051 L32.9077 869.051 L32.9077 881.114 L52.2594 881.114 Q56.6199 881.114 57.8613 879.936 Q59.1026 878.727 59.1026 875.067 L59.1026 869.051 L64.0042 869.051 L64.0042 875.067 Q64.0042 881.846 61.4897 884.424 Q58.9434 887.002 52.2594 887.002 L32.9077 887.002 L32.9077 891.299 L28.3562 891.299 L28.3562 887.002 L18.2347 887.002 L18.2347 881.114 Z\" fill=\"#000000\" fill-rule=\"nonzero\" fill-opacity=\"1\" /><path clip-path=\"url(#clip390)\" d=\"M42.4881 831.716 L64.0042 831.716 L64.0042 837.573 L42.679 837.573 Q37.6183 837.573 35.1038 839.546 Q32.5894 841.519 32.5894 845.466 Q32.5894 850.208 35.6131 852.946 Q38.6368 855.683 43.8567 855.683 L64.0042 855.683 L64.0042 861.571 L14.479 861.571 L14.479 855.683 L33.8944 855.683 Q30.6797 853.582 29.0883 850.75 Q27.4968 847.885 27.4968 844.161 Q27.4968 838.018 31.3163 834.867 Q35.1038 831.716 42.4881 831.716 Z\" fill=\"#000000\" fill-rule=\"nonzero\" fill-opacity=\"1\" /><path clip-path=\"url(#clip390)\" d=\"M16.4842 799.06 L16.4842 792.631 L64.0042 792.631 L64.0042 799.06 L16.4842 799.06 Z\" fill=\"#000000\" fill-rule=\"nonzero\" fill-opacity=\"1\" /><path clip-path=\"url(#clip390)\" d=\"M42.4881 750.458 L64.0042 750.458 L64.0042 756.314 L42.679 756.314 Q37.6183 756.314 35.1038 758.288 Q32.5894 760.261 32.5894 764.208 Q32.5894 768.95 35.6131 771.687 Q38.6368 774.425 43.8567 774.425 L64.0042 774.425 L64.0042 780.313 L28.3562 780.313 L28.3562 774.425 L33.8944 774.425 Q30.6797 772.324 29.0883 769.491 Q27.4968 766.627 27.4968 762.903 Q27.4968 756.76 31.3163 753.609 Q35.1038 750.458 42.4881 750.458 Z\" fill=\"#000000\" fill-rule=\"nonzero\" fill-opacity=\"1\" /><path clip-path=\"url(#clip390)\" d=\"M33.7671 715.319 L14.479 715.319 L14.479 709.463 L64.0042 709.463 L64.0042 715.319 L58.657 715.319 Q61.8398 717.165 63.3994 719.998 Q64.9272 722.799 64.9272 726.746 Q64.9272 733.207 59.771 737.281 Q54.6147 741.323 46.212 741.323 Q37.8093 741.323 32.6531 737.281 Q27.4968 733.207 27.4968 726.746 Q27.4968 722.799 29.0564 719.998 Q30.5842 717.165 33.7671 715.319 M46.212 735.276 Q52.6732 735.276 56.3653 732.634 Q60.0256 729.96 60.0256 725.313 Q60.0256 720.666 56.3653 717.993 Q52.6732 715.319 46.212 715.319 Q39.7508 715.319 36.0905 717.993 Q32.3984 720.666 32.3984 725.313 Q32.3984 729.96 36.0905 732.634 Q39.7508 735.276 46.212 735.276 Z\" fill=\"#000000\" fill-rule=\"nonzero\" fill-opacity=\"1\" /><path clip-path=\"url(#clip390)\" d=\"M44.7161 666.908 L47.5806 666.908 L47.5806 693.835 Q53.6281 693.453 56.8109 690.206 Q59.9619 686.928 59.9619 681.103 Q59.9619 677.73 59.1344 674.579 Q58.3069 671.396 56.6518 668.277 L62.1899 668.277 Q63.5267 671.428 64.227 674.738 Q64.9272 678.048 64.9272 681.454 Q64.9272 689.984 59.9619 694.981 Q54.9967 699.946 46.5303 699.946 Q37.7774 699.946 32.6531 695.235 Q27.4968 690.493 27.4968 682.472 Q27.4968 675.279 32.1438 671.109 Q36.7589 666.908 44.7161 666.908 M42.9973 672.764 Q38.1912 672.828 35.3266 675.47 Q32.4621 678.08 32.4621 682.408 Q32.4621 687.31 35.2312 690.27 Q38.0002 693.198 43.0292 693.644 L42.9973 672.764 Z\" fill=\"#000000\" fill-rule=\"nonzero\" fill-opacity=\"1\" /><path clip-path=\"url(#clip390)\" d=\"M28.3562 628.809 L45.7028 641.7 L64.0042 628.141 L64.0042 635.048 L49.9996 645.424 L64.0042 655.8 L64.0042 662.707 L45.3526 648.861 L28.3562 661.529 L28.3562 654.622 L41.0558 645.169 L28.3562 635.716 L28.3562 628.809 Z\" fill=\"#000000\" fill-rule=\"nonzero\" fill-opacity=\"1\" /><path clip-path=\"url(#clip390)\" d=\"M14.5426 585.077 Q21.8632 589.342 29.0246 591.411 Q36.186 593.48 43.5384 593.48 Q50.8908 593.48 58.1159 591.411 Q65.3091 589.31 72.5979 585.077 L72.5979 590.169 Q65.1182 594.944 57.8931 597.331 Q50.668 599.686 43.5384 599.686 Q36.4406 599.686 29.2474 597.331 Q22.0542 594.975 14.5426 590.169 L14.5426 585.077 Z\" fill=\"#000000\" fill-rule=\"nonzero\" fill-opacity=\"1\" /><path clip-path=\"url(#clip390)\" d=\"M16.4842 574.191 L16.4842 567.73 L45.3526 567.73 Q52.9915 567.73 56.3653 564.961 Q59.7073 562.192 59.7073 555.985 Q59.7073 549.811 56.3653 547.042 Q52.9915 544.273 45.3526 544.273 L16.4842 544.273 L16.4842 537.811 L46.1484 537.811 Q55.4423 537.811 60.1847 542.427 Q64.9272 547.01 64.9272 555.985 Q64.9272 564.993 60.1847 569.608 Q55.4423 574.191 46.1484 574.191 L16.4842 574.191 Z\" fill=\"#000000\" fill-rule=\"nonzero\" fill-opacity=\"1\" /><path clip-path=\"url(#clip390)\" d=\"M18.0438 497.262 L24.314 497.262 Q22.5634 500.922 21.704 504.169 Q20.8447 507.415 20.8447 510.439 Q20.8447 515.691 22.8817 518.555 Q24.9187 521.388 28.6745 521.388 Q31.8255 521.388 33.4488 519.51 Q35.0402 517.6 36.0269 512.317 L36.8226 508.434 Q38.1912 501.24 41.6605 497.835 Q45.098 494.397 50.8908 494.397 Q57.7976 494.397 61.3624 499.044 Q64.9272 503.659 64.9272 512.603 Q64.9272 515.977 64.1633 519.796 Q63.3994 523.584 61.9035 527.658 L55.2831 527.658 Q57.4793 523.743 58.5933 519.987 Q59.7073 516.232 59.7073 512.603 Q59.7073 507.097 57.543 504.105 Q55.3786 501.113 51.3682 501.113 Q47.8671 501.113 45.8937 503.277 Q43.9204 505.41 42.9337 510.312 L42.1698 514.226 Q40.7375 521.42 37.682 524.634 Q34.6264 527.849 29.1837 527.849 Q22.8817 527.849 19.2532 523.425 Q15.6248 518.969 15.6248 511.171 Q15.6248 507.829 16.2295 504.36 Q16.8343 500.89 18.0438 497.262 Z\" fill=\"#000000\" fill-rule=\"nonzero\" fill-opacity=\"1\" /><path clip-path=\"url(#clip390)\" d=\"M21.7677 477.942 L58.7206 477.942 L58.7206 470.176 Q58.7206 460.341 54.2646 455.789 Q49.8086 451.206 40.1964 451.206 Q30.6479 451.206 26.2237 455.789 Q21.7677 460.341 21.7677 470.176 L21.7677 477.942 M16.4842 484.371 L16.4842 471.162 Q16.4842 457.349 22.2451 450.888 Q27.9743 444.426 40.1964 444.426 Q52.4822 444.426 58.2432 450.92 Q64.0042 457.413 64.0042 471.162 L64.0042 484.371 L16.4842 484.371 Z\" fill=\"#000000\" fill-rule=\"nonzero\" fill-opacity=\"1\" /><path clip-path=\"url(#clip390)\" d=\"M14.5426 435.355 L14.5426 430.263 Q22.0542 425.489 29.2474 423.133 Q36.4406 420.746 43.5384 420.746 Q50.668 420.746 57.8931 423.133 Q65.1182 425.489 72.5979 430.263 L72.5979 435.355 Q65.3091 431.122 58.1159 429.053 Q50.8908 426.953 43.5384 426.953 Q36.186 426.953 29.0246 429.053 Q21.8632 431.122 14.5426 435.355 Z\" fill=\"#000000\" fill-rule=\"nonzero\" fill-opacity=\"1\" /><polyline clip-path=\"url(#clip392)\" style=\"stroke:#ff0000; stroke-linecap:round; stroke-linejoin:round; stroke-width:16; stroke-opacity:1; fill:none\" points=\"321.708,671.06 332.602,631.636 343.497,666.649 354.391,649.016 365.286,669.29 376.18,713.577 387.075,742.032 397.969,675.711 408.863,726.629 419.758,657.676 430.652,670.565 441.547,621.324 452.441,622.229 463.336,630.972 474.23,575.844 485.124,523.387 496.019,516.695 506.913,559.489 517.808,571.213 528.702,559.663 539.596,493.034 550.491,453.054 561.385,428.796 572.28,494.518 583.174,439.457 594.069,430.872 604.963,400.067 615.857,347.124 626.752,354.868 637.646,380.638 648.541,351.746 659.435,440.695 670.33,483.469 681.224,498.878 692.118,457.88 703.013,530.359 713.907,582.912 724.802,492.484 735.696,542.123 746.591,582.088 757.485,522.268 768.379,585.616 779.274,710.007 790.168,874.86 801.063,909.241 811.957,932.443 822.852,1046.42 833.746,972.146 844.64,927.825 855.535,994.046 866.429,953.252 877.324,978.04 888.218,925.114 899.113,860.305 910.007,852.663 920.901,879.263 931.796,854.541 942.69,933.137 953.585,879.724 964.479,835.017 975.374,806.766 986.268,936.883 997.162,1158.75 1008.06,1204.37 1018.95,1268.31 1029.85,890.918 1040.74,953.787 1051.63,885.313 1062.53,827.009 1073.42,842.365 1084.32,955.218 1095.21,894.319 1106.11,1006.07 1117,904.203 1127.9,864.918 1138.79,805.102 1149.68,788.566 1160.58,784.064 1171.47,743.595 1182.37,720.383 1193.26,628.873 1204.16,604.914 1215.05,609.404 1225.95,634.318 1236.84,644.693 1247.73,633.709 1258.63,630.748 1269.52,533.367 1280.42,555.993 1291.31,548 1302.21,523.985 1313.1,478.401 1324,464.691 1334.89,473.402 1345.78,538.663 1356.68,553.487 1367.57,604.553 1378.47,526.622 1389.36,547.617 1400.26,554.528 1411.15,482.449 1422.05,432.562 1432.94,420.98 1443.83,429.839 1454.73,514.807 1465.62,490.111 1476.52,501.618 1487.41,498.607 1498.31,541.123 1509.2,522.449 1520.09,571.737 1530.99,550.459 1541.88,575.349 1552.78,565.656 1563.67,537.457 1574.57,455.659 1585.46,440.959 1596.36,456.077 1607.25,458.992 1618.14,450.065 1629.04,420.878 1639.93,436.807 1650.83,428.856 1661.72,391.378 1672.62,396.633 1683.51,421.825 1694.41,406.943 1705.3,434.071 1716.19,433.753 1727.09,416.354 1737.98,420.502 1748.88,441.675 1759.77,421.467 1770.67,431.619 1781.56,428.419 1792.46,446.272 1803.35,442.159 1814.24,432.616 1825.14,409.771 1836.03,404.187 1846.93,403.682 1857.82,425.321 1868.72,357.252 1879.61,382.115 1890.51,328.208 1901.4,377.151 1912.29,287.87 1923.19,245.451 1934.08,195.195 1944.98,189.727 1955.87,154.244 1966.77,190.003 1977.66,198.992 1988.56,226.211 1999.45,221.129 2010.34,248.359 2021.24,245.369 2032.13,331.42 2043.03,334.436 2053.92,386.212 2064.82,379.87 2075.71,347.253 2086.61,337.502 2097.5,352.182 2108.39,368.335 2119.29,303.68 2130.18,271.065 2141.08,309.743 2151.97,280.919 2162.87,274.67 2173.76,347.512 2184.65,309.024 2195.55,253.672 2206.44,238.041 2217.34,266.383 2228.23,236.923 2239.13,270.744 2250.02,227.489 2260.92,203.273 2271.81,223.435 2282.7,224.823 2293.6,216.249 \"/>\n",
       "<polyline clip-path=\"url(#clip392)\" style=\"stroke:#000080; stroke-linecap:round; stroke-linejoin:round; stroke-width:16; stroke-opacity:1; fill:none\" points=\"321.708,656.808 332.602,630.825 343.497,682.104 354.391,675.552 365.286,744.127 376.18,737.269 387.075,731.174 397.969,650.483 408.863,659.17 419.758,613.91 430.652,572.232 441.547,546.402 452.441,521.181 463.336,534.744 474.23,600.271 485.124,561.031 496.019,581.68 506.913,557.069 517.808,581.603 528.702,612.462 539.596,581.908 550.491,563.317 561.385,547.316 572.28,589.604 583.174,558.517 594.069,555.012 604.963,569.87 615.857,521.333 626.752,521.562 637.646,507.923 648.541,496.951 659.435,516.381 670.33,595.928 681.224,616.729 692.118,639.359 703.013,637.073 713.907,709.382 724.802,639.816 735.696,719.135 746.591,771.785 757.485,724.545 768.379,803.406 779.274,778.948 790.168,895.83 801.063,931.337 811.957,908.86 822.852,965.625 833.746,878.839 844.64,845.77 855.535,892.478 866.429,845.923 877.324,858.419 888.218,869.924 899.113,792.968 910.007,782.453 920.901,834.798 931.796,846.304 942.69,933.318 953.585,904.898 964.479,892.859 975.374,865.81 986.268,1077.78 997.162,1317.19 1008.06,1324.04 1018.95,1384.24 1029.85,986.959 1040.74,1170.13 1051.63,1098.81 1062.53,1059.34 1073.42,1070.85 1084.32,1161.9 1095.21,1156.19 1106.11,1251.66 1117,1149.79 1127.9,1087.54 1138.79,1001.66 1149.68,971.568 1160.58,969.968 1171.47,943.528 1182.37,941.852 1193.26,911.907 1204.16,848.742 1215.05,873.505 1225.95,909.393 1236.84,891.487 1247.73,861.695 1258.63,867.181 1269.52,725.078 1280.42,695.743 1291.31,690.029 1302.21,668.161 1313.1,639.664 1324,634.711 1334.89,649.95 1345.78,726.069 1356.68,724.316 1367.57,754.642 1378.47,662.903 1389.36,688.962 1400.26,671.285 1411.15,676.313 1422.05,651.017 1432.94,625.263 1443.83,626.482 1454.73,648.426 1465.62,602.024 1476.52,597.909 1487.41,572.003 1498.31,585.108 1509.2,566.898 1520.09,618.329 1530.99,575.051 1541.88,614.291 1552.78,614.977 1563.67,639.054 1574.57,594.328 1585.46,543.811 1596.36,541.22 1607.25,505.028 1618.14,481.865 1629.04,459.463 1639.93,460.987 1650.83,439.653 1661.72,402.394 1672.62,437.9 1683.51,440.491 1694.41,412.147 1705.3,398.736 1716.19,415.499 1727.09,406.432 1737.98,426.776 1748.88,410.927 1759.77,381.821 1770.67,385.326 1781.56,376.259 1792.46,375.573 1803.35,334.809 1814.24,333.209 1825.14,312.789 1836.03,314.008 1846.93,326.808 1857.82,332.904 1868.72,351.038 1879.61,429.976 1890.51,357.972 1901.4,382.354 1912.29,345.705 1923.19,349.743 1934.08,312.179 1944.98,321.78 1955.87,270.196 1966.77,253.433 1977.66,252.976 1988.56,264.481 1999.45,265.548 2010.34,292.14 2021.24,305.093 2032.13,324.599 2043.03,250.233 2053.92,271.872 2064.82,251.376 2075.71,240.175 2086.61,222.727 2097.5,252.214 2108.39,288.635 2119.29,262.195 2130.18,221.203 2141.08,235.527 2151.97,223.412 2162.87,211.983 2173.76,197.658 2184.65,156.361 2195.55,158.037 2206.44,131.369 2217.34,138.303 2228.23,144.551 2239.13,121.083 2250.02,110.111 2260.92,86.1857 2271.81,113.844 2282.7,129.921 2293.6,153.161 \"/>\n",
       "<polyline clip-path=\"url(#clip392)\" style=\"stroke:#008000; stroke-linecap:round; stroke-linejoin:round; stroke-width:16; stroke-opacity:1; fill:none\" points=\"321.708,674.452 332.602,640.269 343.497,675.109 354.391,666.614 365.286,699.127 376.18,734.108 387.075,754.176 397.969,688.75 408.863,739.301 419.758,677.743 430.652,693.591 441.547,640.714 452.441,646.038 463.336,658.185 474.23,624.386 485.124,565.379 496.019,559.097 506.913,608.407 517.808,618.938 528.702,618.505 539.596,552.632 550.491,525.507 561.385,508.859 572.28,566.922 583.174,517.542 594.069,505.232 604.963,478.096 615.857,430.132 626.752,437.032 637.646,452.337 648.541,424.232 659.435,470.78 670.33,500.908 681.224,508.896 692.118,499.534 703.013,564.657 713.907,627.989 724.802,550.178 735.696,595.999 746.591,615.31 757.485,562.531 768.379,615.28 779.274,701.593 790.168,845.756 801.063,878.511 811.957,890.381 822.852,988.993 833.746,920.64 844.64,883.589 855.535,935.069 866.429,895.99 877.324,918.037 888.218,869.385 899.113,812.388 910.007,790.17 920.901,819.137 931.796,793.96 942.69,868.956 953.585,825.315 964.479,787.406 975.374,768.067 986.268,890.936 997.162,1109.66 1008.06,1172.3 1018.95,1230.35 1029.85,873.197 1040.74,936.32 1051.63,866.076 1062.53,819.369 1073.42,830.092 1084.32,920.925 1095.21,872.296 1106.11,962.768 1117,879.496 1127.9,847.656 1138.79,784.885 1149.68,769.857 1160.58,760.431 1171.47,728.28 1182.37,712.045 1193.26,632.017 1204.16,617.256 1215.05,614.407 1225.95,625.206 1236.84,643.328 1247.73,631.426 1258.63,620.822 1269.52,531.485 1280.42,544.684 1291.31,547.991 1302.21,517.575 1313.1,485.378 1324,469.6 1334.89,469.859 1345.78,527.131 1356.68,544.404 1367.57,588.545 1378.47,521.224 1389.36,541.812 1400.26,546.247 1411.15,490.271 1422.05,436.288 1432.94,428.859 1443.83,431.654 1454.73,505.531 1465.62,482.486 1476.52,489.009 1487.41,483.86 1498.31,517.949 1509.2,490.212 1520.09,532.643 1530.99,505.876 1541.88,530.698 1552.78,528.166 1563.67,490.697 1574.57,415.99 1585.46,403.668 1596.36,409.602 1607.25,406.861 1618.14,412.282 1629.04,380.792 1639.93,398.5 1650.83,383.301 1661.72,353.659 1672.62,365.023 1683.51,382.103 1694.41,360.513 1705.3,367.887 1716.19,360.985 1727.09,352.884 1737.98,349.063 1748.88,359.996 1759.77,338.97 1770.67,351.377 1781.56,343.472 1792.46,356.546 1803.35,353.749 1814.24,348.8 1825.14,333.728 1836.03,332.028 1846.93,332.549 1857.82,354.934 1868.72,289.391 1879.61,314.704 1890.51,261.815 1901.4,308.87 1912.29,247.612 1923.19,194.214 1934.08,144.848 1944.98,147.983 1955.87,109.728 1966.77,126.238 1977.66,141.502 1988.56,164.883 1999.45,166.926 2010.34,204.062 2021.24,207.061 2032.13,265.447 2043.03,255.863 2053.92,304.36 2064.82,295.126 2075.71,264.151 2086.61,250.622 2097.5,269.027 2108.39,279.317 2119.29,220.938 2130.18,199.042 2141.08,239.333 2151.97,217.954 2162.87,212.99 2173.76,271.396 2184.65,248.088 2195.55,192.058 2206.44,171.623 2217.34,197.805 2228.23,178.356 2239.13,211.295 2250.02,155.056 2260.92,124.613 2271.81,139.53 2282.7,146.739 2293.6,137.119 \"/>\n",
       "<path clip-path=\"url(#clip390)\" d=\"M1469.67 1377.32 L2283.08 1377.32 L2283.08 1169.96 L1469.67 1169.96  Z\" fill=\"#f2f2f2\" fill-rule=\"evenodd\" fill-opacity=\"1\"/>\n",
       "<polyline clip-path=\"url(#clip390)\" style=\"stroke:#000000; stroke-linecap:round; stroke-linejoin:round; stroke-width:4; stroke-opacity:0; fill:none\" points=\"1469.67,1377.32 2283.08,1377.32 2283.08,1169.96 1469.67,1169.96 1469.67,1377.32 \"/>\n",
       "<polyline clip-path=\"url(#clip390)\" style=\"stroke:#ff0000; stroke-linecap:round; stroke-linejoin:round; stroke-width:16; stroke-opacity:1; fill:none\" points=\"1492.89,1221.8 1632.24,1221.8 \"/>\n",
       "<path clip-path=\"url(#clip390)\" d=\"M1660.14 1208.36 L1660.14 1221.34 L1666.02 1221.34 Q1669.28 1221.34 1671.06 1219.65 Q1672.85 1217.96 1672.85 1214.84 Q1672.85 1211.74 1671.06 1210.05 Q1669.28 1208.36 1666.02 1208.36 L1660.14 1208.36 M1655.46 1204.52 L1666.02 1204.52 Q1671.83 1204.52 1674.79 1207.15 Q1677.78 1209.77 1677.78 1214.84 Q1677.78 1219.96 1674.79 1222.57 Q1671.83 1225.19 1666.02 1225.19 L1660.14 1225.19 L1660.14 1239.08 L1655.46 1239.08 L1655.46 1204.52 Z\" fill=\"#000000\" fill-rule=\"nonzero\" fill-opacity=\"1\" /><path clip-path=\"url(#clip390)\" d=\"M1698.06 1217.13 Q1697.34 1216.71 1696.48 1216.53 Q1695.65 1216.32 1694.63 1216.32 Q1691.02 1216.32 1689.07 1218.68 Q1687.15 1221.02 1687.15 1225.42 L1687.15 1239.08 L1682.87 1239.08 L1682.87 1213.15 L1687.15 1213.15 L1687.15 1217.18 Q1688.5 1214.82 1690.65 1213.68 Q1692.8 1212.52 1695.88 1212.52 Q1696.32 1212.52 1696.85 1212.59 Q1697.38 1212.64 1698.03 1212.76 L1698.06 1217.13 Z\" fill=\"#000000\" fill-rule=\"nonzero\" fill-opacity=\"1\" /><path clip-path=\"url(#clip390)\" d=\"M1702.52 1213.15 L1706.78 1213.15 L1706.78 1239.08 L1702.52 1239.08 L1702.52 1213.15 M1702.52 1203.06 L1706.78 1203.06 L1706.78 1208.45 L1702.52 1208.45 L1702.52 1203.06 Z\" fill=\"#000000\" fill-rule=\"nonzero\" fill-opacity=\"1\" /><path clip-path=\"url(#clip390)\" d=\"M1735.88 1218.13 Q1737.48 1215.26 1739.7 1213.89 Q1741.92 1212.52 1744.93 1212.52 Q1748.98 1212.52 1751.18 1215.37 Q1753.38 1218.2 1753.38 1223.43 L1753.38 1239.08 L1749.1 1239.08 L1749.1 1223.57 Q1749.1 1219.84 1747.78 1218.03 Q1746.46 1216.23 1743.75 1216.23 Q1740.44 1216.23 1738.52 1218.43 Q1736.6 1220.63 1736.6 1224.42 L1736.6 1239.08 L1732.31 1239.08 L1732.31 1223.57 Q1732.31 1219.82 1731 1218.03 Q1729.68 1216.23 1726.92 1216.23 Q1723.66 1216.23 1721.74 1218.45 Q1719.81 1220.65 1719.81 1224.42 L1719.81 1239.08 L1715.53 1239.08 L1715.53 1213.15 L1719.81 1213.15 L1719.81 1217.18 Q1721.27 1214.79 1723.31 1213.66 Q1725.35 1212.52 1728.15 1212.52 Q1730.97 1212.52 1732.94 1213.96 Q1734.93 1215.39 1735.88 1218.13 Z\" fill=\"#000000\" fill-rule=\"nonzero\" fill-opacity=\"1\" /><path clip-path=\"url(#clip390)\" d=\"M1773.66 1226.04 Q1768.49 1226.04 1766.5 1227.22 Q1764.51 1228.4 1764.51 1231.25 Q1764.51 1233.52 1765.99 1234.86 Q1767.5 1236.18 1770.07 1236.18 Q1773.61 1236.18 1775.74 1233.68 Q1777.89 1231.16 1777.89 1226.99 L1777.89 1226.04 L1773.66 1226.04 M1782.15 1224.28 L1782.15 1239.08 L1777.89 1239.08 L1777.89 1235.14 Q1776.43 1237.5 1774.26 1238.64 Q1772.08 1239.75 1768.93 1239.75 Q1764.95 1239.75 1762.59 1237.52 Q1760.25 1235.28 1760.25 1231.53 Q1760.25 1227.15 1763.17 1224.93 Q1766.11 1222.71 1771.92 1222.71 L1777.89 1222.71 L1777.89 1222.29 Q1777.89 1219.35 1775.95 1217.76 Q1774.03 1216.14 1770.53 1216.14 Q1768.31 1216.14 1766.2 1216.67 Q1764.1 1217.2 1762.15 1218.27 L1762.15 1214.33 Q1764.49 1213.43 1766.69 1212.99 Q1768.89 1212.52 1770.97 1212.52 Q1776.6 1212.52 1779.37 1215.44 Q1782.15 1218.36 1782.15 1224.28 Z\" fill=\"#000000\" fill-rule=\"nonzero\" fill-opacity=\"1\" /><path clip-path=\"url(#clip390)\" d=\"M1805.95 1217.13 Q1805.23 1216.71 1804.37 1216.53 Q1803.54 1216.32 1802.52 1216.32 Q1798.91 1216.32 1796.97 1218.68 Q1795.05 1221.02 1795.05 1225.42 L1795.05 1239.08 L1790.76 1239.08 L1790.76 1213.15 L1795.05 1213.15 L1795.05 1217.18 Q1796.39 1214.82 1798.54 1213.68 Q1800.69 1212.52 1803.77 1212.52 Q1804.21 1212.52 1804.74 1212.59 Q1805.28 1212.64 1805.93 1212.76 L1805.95 1217.13 Z\" fill=\"#000000\" fill-rule=\"nonzero\" fill-opacity=\"1\" /><path clip-path=\"url(#clip390)\" d=\"M1821.2 1241.48 Q1819.4 1246.11 1817.68 1247.52 Q1815.97 1248.94 1813.1 1248.94 L1809.7 1248.94 L1809.7 1245.37 L1812.2 1245.37 Q1813.96 1245.37 1814.93 1244.54 Q1815.9 1243.7 1817.08 1240.6 L1817.85 1238.66 L1807.36 1213.15 L1811.87 1213.15 L1819.98 1233.43 L1828.08 1213.15 L1832.59 1213.15 L1821.2 1241.48 Z\" fill=\"#000000\" fill-rule=\"nonzero\" fill-opacity=\"1\" /><path clip-path=\"url(#clip390)\" d=\"M1858.4 1208.36 L1858.4 1221.34 L1864.28 1221.34 Q1867.55 1221.34 1869.33 1219.65 Q1871.11 1217.96 1871.11 1214.84 Q1871.11 1211.74 1869.33 1210.05 Q1867.55 1208.36 1864.28 1208.36 L1858.4 1208.36 M1853.73 1204.52 L1864.28 1204.52 Q1870.09 1204.52 1873.05 1207.15 Q1876.04 1209.77 1876.04 1214.84 Q1876.04 1219.96 1873.05 1222.57 Q1870.09 1225.19 1864.28 1225.19 L1858.4 1225.19 L1858.4 1239.08 L1853.73 1239.08 L1853.73 1204.52 Z\" fill=\"#000000\" fill-rule=\"nonzero\" fill-opacity=\"1\" /><path clip-path=\"url(#clip390)\" d=\"M1890.48 1216.14 Q1887.06 1216.14 1885.07 1218.82 Q1883.08 1221.48 1883.08 1226.14 Q1883.08 1230.79 1885.05 1233.47 Q1887.04 1236.14 1890.48 1236.14 Q1893.89 1236.14 1895.88 1233.45 Q1897.87 1230.77 1897.87 1226.14 Q1897.87 1221.53 1895.88 1218.84 Q1893.89 1216.14 1890.48 1216.14 M1890.48 1212.52 Q1896.04 1212.52 1899.21 1216.14 Q1902.38 1219.75 1902.38 1226.14 Q1902.38 1232.5 1899.21 1236.14 Q1896.04 1239.75 1890.48 1239.75 Q1884.91 1239.75 1881.73 1236.14 Q1878.59 1232.5 1878.59 1226.14 Q1878.59 1219.75 1881.73 1216.14 Q1884.91 1212.52 1890.48 1212.52 Z\" fill=\"#000000\" fill-rule=\"nonzero\" fill-opacity=\"1\" /><path clip-path=\"url(#clip390)\" d=\"M1924.47 1217.13 Q1923.75 1216.71 1922.89 1216.53 Q1922.06 1216.32 1921.04 1216.32 Q1917.43 1216.32 1915.48 1218.68 Q1913.56 1221.02 1913.56 1225.42 L1913.56 1239.08 L1909.28 1239.08 L1909.28 1213.15 L1913.56 1213.15 L1913.56 1217.18 Q1914.91 1214.82 1917.06 1213.68 Q1919.21 1212.52 1922.29 1212.52 Q1922.73 1212.52 1923.26 1212.59 Q1923.79 1212.64 1924.44 1212.76 L1924.47 1217.13 Z\" fill=\"#000000\" fill-rule=\"nonzero\" fill-opacity=\"1\" /><path clip-path=\"url(#clip390)\" d=\"M1933.15 1205.79 L1933.15 1213.15 L1941.92 1213.15 L1941.92 1216.46 L1933.15 1216.46 L1933.15 1230.53 Q1933.15 1233.7 1934 1234.61 Q1934.88 1235.51 1937.54 1235.51 L1941.92 1235.51 L1941.92 1239.08 L1937.54 1239.08 Q1932.61 1239.08 1930.74 1237.25 Q1928.86 1235.39 1928.86 1230.53 L1928.86 1216.46 L1925.74 1216.46 L1925.74 1213.15 L1928.86 1213.15 L1928.86 1205.79 L1933.15 1205.79 Z\" fill=\"#000000\" fill-rule=\"nonzero\" fill-opacity=\"1\" /><path clip-path=\"url(#clip390)\" d=\"M1960.65 1203.06 L1960.65 1206.6 L1956.57 1206.6 Q1954.28 1206.6 1953.38 1207.52 Q1952.5 1208.45 1952.5 1210.86 L1952.5 1213.15 L1959.51 1213.15 L1959.51 1216.46 L1952.5 1216.46 L1952.5 1239.08 L1948.22 1239.08 L1948.22 1216.46 L1944.14 1216.46 L1944.14 1213.15 L1948.22 1213.15 L1948.22 1211.34 Q1948.22 1207.02 1950.23 1205.05 Q1952.24 1203.06 1956.62 1203.06 L1960.65 1203.06 Z\" fill=\"#000000\" fill-rule=\"nonzero\" fill-opacity=\"1\" /><path clip-path=\"url(#clip390)\" d=\"M1974.26 1216.14 Q1970.83 1216.14 1968.84 1218.82 Q1966.85 1221.48 1966.85 1226.14 Q1966.85 1230.79 1968.82 1233.47 Q1970.81 1236.14 1974.26 1236.14 Q1977.66 1236.14 1979.65 1233.45 Q1981.64 1230.77 1981.64 1226.14 Q1981.64 1221.53 1979.65 1218.84 Q1977.66 1216.14 1974.26 1216.14 M1974.26 1212.52 Q1979.81 1212.52 1982.98 1216.14 Q1986.16 1219.75 1986.16 1226.14 Q1986.16 1232.5 1982.98 1236.14 Q1979.81 1239.75 1974.26 1239.75 Q1968.68 1239.75 1965.51 1236.14 Q1962.36 1232.5 1962.36 1226.14 Q1962.36 1219.75 1965.51 1216.14 Q1968.68 1212.52 1974.26 1212.52 Z\" fill=\"#000000\" fill-rule=\"nonzero\" fill-opacity=\"1\" /><path clip-path=\"url(#clip390)\" d=\"M1993.22 1203.06 L1997.48 1203.06 L1997.48 1239.08 L1993.22 1239.08 L1993.22 1203.06 Z\" fill=\"#000000\" fill-rule=\"nonzero\" fill-opacity=\"1\" /><path clip-path=\"url(#clip390)\" d=\"M2006.39 1213.15 L2010.65 1213.15 L2010.65 1239.08 L2006.39 1239.08 L2006.39 1213.15 M2006.39 1203.06 L2010.65 1203.06 L2010.65 1208.45 L2006.39 1208.45 L2006.39 1203.06 Z\" fill=\"#000000\" fill-rule=\"nonzero\" fill-opacity=\"1\" /><path clip-path=\"url(#clip390)\" d=\"M2029.6 1216.14 Q2026.18 1216.14 2024.19 1218.82 Q2022.2 1221.48 2022.2 1226.14 Q2022.2 1230.79 2024.16 1233.47 Q2026.16 1236.14 2029.6 1236.14 Q2033.01 1236.14 2035 1233.45 Q2036.99 1230.77 2036.99 1226.14 Q2036.99 1221.53 2035 1218.84 Q2033.01 1216.14 2029.6 1216.14 M2029.6 1212.52 Q2035.16 1212.52 2038.33 1216.14 Q2041.5 1219.75 2041.5 1226.14 Q2041.5 1232.5 2038.33 1236.14 Q2035.16 1239.75 2029.6 1239.75 Q2024.03 1239.75 2020.85 1236.14 Q2017.71 1232.5 2017.71 1226.14 Q2017.71 1219.75 2020.85 1216.14 Q2024.03 1212.52 2029.6 1212.52 Z\" fill=\"#000000\" fill-rule=\"nonzero\" fill-opacity=\"1\" /><polyline clip-path=\"url(#clip390)\" style=\"stroke:#000080; stroke-linecap:round; stroke-linejoin:round; stroke-width:16; stroke-opacity:1; fill:none\" points=\"1492.89,1273.64 1632.24,1273.64 \"/>\n",
       "<path clip-path=\"url(#clip390)\" d=\"M1671.3 1260.96 L1664.95 1278.16 L1677.66 1278.16 L1671.3 1260.96 M1668.66 1256.36 L1673.96 1256.36 L1687.13 1290.92 L1682.27 1290.92 L1679.12 1282.05 L1663.54 1282.05 L1660.39 1290.92 L1655.46 1290.92 L1668.66 1256.36 Z\" fill=\"#000000\" fill-rule=\"nonzero\" fill-opacity=\"1\" /><path clip-path=\"url(#clip390)\" d=\"M1691.99 1254.9 L1696.25 1254.9 L1696.25 1290.92 L1691.99 1290.92 L1691.99 1254.9 Z\" fill=\"#000000\" fill-rule=\"nonzero\" fill-opacity=\"1\" /><path clip-path=\"url(#clip390)\" d=\"M1709.37 1257.63 L1709.37 1264.99 L1718.15 1264.99 L1718.15 1268.3 L1709.37 1268.3 L1709.37 1282.37 Q1709.37 1285.54 1710.23 1286.45 Q1711.11 1287.35 1713.77 1287.35 L1718.15 1287.35 L1718.15 1290.92 L1713.77 1290.92 Q1708.84 1290.92 1706.97 1289.09 Q1705.09 1287.23 1705.09 1282.37 L1705.09 1268.3 L1701.97 1268.3 L1701.97 1264.99 L1705.09 1264.99 L1705.09 1257.63 L1709.37 1257.63 Z\" fill=\"#000000\" fill-rule=\"nonzero\" fill-opacity=\"1\" /><path clip-path=\"url(#clip390)\" d=\"M1745.93 1276.89 L1745.93 1278.97 L1726.34 1278.97 Q1726.62 1283.37 1728.98 1285.68 Q1731.37 1287.98 1735.6 1287.98 Q1738.06 1287.98 1740.35 1287.37 Q1742.66 1286.77 1744.93 1285.57 L1744.93 1289.6 Q1742.64 1290.57 1740.23 1291.08 Q1737.82 1291.59 1735.35 1291.59 Q1729.14 1291.59 1725.51 1287.98 Q1721.9 1284.36 1721.9 1278.21 Q1721.9 1271.84 1725.32 1268.11 Q1728.77 1264.36 1734.61 1264.36 Q1739.84 1264.36 1742.87 1267.74 Q1745.93 1271.1 1745.93 1276.89 M1741.67 1275.64 Q1741.62 1272.14 1739.7 1270.06 Q1737.8 1267.98 1734.65 1267.98 Q1731.09 1267.98 1728.93 1269.99 Q1726.81 1272 1726.48 1275.66 L1741.67 1275.64 Z\" fill=\"#000000\" fill-rule=\"nonzero\" fill-opacity=\"1\" /><path clip-path=\"url(#clip390)\" d=\"M1767.94 1268.97 Q1767.22 1268.55 1766.37 1268.37 Q1765.53 1268.16 1764.51 1268.16 Q1760.9 1268.16 1758.96 1270.52 Q1757.04 1272.86 1757.04 1277.26 L1757.04 1290.92 L1752.75 1290.92 L1752.75 1264.99 L1757.04 1264.99 L1757.04 1269.02 Q1758.38 1266.66 1760.53 1265.52 Q1762.68 1264.36 1765.76 1264.36 Q1766.2 1264.36 1766.74 1264.43 Q1767.27 1264.48 1767.92 1264.6 L1767.94 1268.97 Z\" fill=\"#000000\" fill-rule=\"nonzero\" fill-opacity=\"1\" /><path clip-path=\"url(#clip390)\" d=\"M1793.12 1275.27 L1793.12 1290.92 L1788.87 1290.92 L1788.87 1275.41 Q1788.87 1271.73 1787.43 1269.9 Q1785.99 1268.07 1783.12 1268.07 Q1779.68 1268.07 1777.68 1270.27 Q1775.69 1272.47 1775.69 1276.26 L1775.69 1290.92 L1771.41 1290.92 L1771.41 1264.99 L1775.69 1264.99 L1775.69 1269.02 Q1777.22 1266.68 1779.28 1265.52 Q1781.37 1264.36 1784.07 1264.36 Q1788.54 1264.36 1790.83 1267.14 Q1793.12 1269.9 1793.12 1275.27 Z\" fill=\"#000000\" fill-rule=\"nonzero\" fill-opacity=\"1\" /><path clip-path=\"url(#clip390)\" d=\"M1813.4 1277.88 Q1808.24 1277.88 1806.25 1279.06 Q1804.26 1280.24 1804.26 1283.09 Q1804.26 1285.36 1805.74 1286.7 Q1807.24 1288.02 1809.81 1288.02 Q1813.36 1288.02 1815.49 1285.52 Q1817.64 1283 1817.64 1278.83 L1817.64 1277.88 L1813.4 1277.88 M1821.9 1276.12 L1821.9 1290.92 L1817.64 1290.92 L1817.64 1286.98 Q1816.18 1289.34 1814 1290.48 Q1811.83 1291.59 1808.68 1291.59 Q1804.7 1291.59 1802.34 1289.36 Q1800 1287.12 1800 1283.37 Q1800 1278.99 1802.92 1276.77 Q1805.86 1274.55 1811.67 1274.55 L1817.64 1274.55 L1817.64 1274.13 Q1817.64 1271.19 1815.69 1269.6 Q1813.77 1267.98 1810.28 1267.98 Q1808.05 1267.98 1805.95 1268.51 Q1803.84 1269.04 1801.9 1270.11 L1801.9 1266.17 Q1804.24 1265.27 1806.43 1264.83 Q1808.63 1264.36 1810.72 1264.36 Q1816.34 1264.36 1819.12 1267.28 Q1821.9 1270.2 1821.9 1276.12 Z\" fill=\"#000000\" fill-rule=\"nonzero\" fill-opacity=\"1\" /><path clip-path=\"url(#clip390)\" d=\"M1834.88 1257.63 L1834.88 1264.99 L1843.66 1264.99 L1843.66 1268.3 L1834.88 1268.3 L1834.88 1282.37 Q1834.88 1285.54 1835.74 1286.45 Q1836.62 1287.35 1839.28 1287.35 L1843.66 1287.35 L1843.66 1290.92 L1839.28 1290.92 Q1834.35 1290.92 1832.48 1289.09 Q1830.6 1287.23 1830.6 1282.37 L1830.6 1268.3 L1827.48 1268.3 L1827.48 1264.99 L1830.6 1264.99 L1830.6 1257.63 L1834.88 1257.63 Z\" fill=\"#000000\" fill-rule=\"nonzero\" fill-opacity=\"1\" /><path clip-path=\"url(#clip390)\" d=\"M1849.26 1264.99 L1853.52 1264.99 L1853.52 1290.92 L1849.26 1290.92 L1849.26 1264.99 M1849.26 1254.9 L1853.52 1254.9 L1853.52 1260.29 L1849.26 1260.29 L1849.26 1254.9 Z\" fill=\"#000000\" fill-rule=\"nonzero\" fill-opacity=\"1\" /><path clip-path=\"url(#clip390)\" d=\"M1859.37 1264.99 L1863.89 1264.99 L1871.99 1286.75 L1880.09 1264.99 L1884.61 1264.99 L1874.88 1290.92 L1869.1 1290.92 L1859.37 1264.99 Z\" fill=\"#000000\" fill-rule=\"nonzero\" fill-opacity=\"1\" /><path clip-path=\"url(#clip390)\" d=\"M1912.66 1276.89 L1912.66 1278.97 L1893.08 1278.97 Q1893.36 1283.37 1895.72 1285.68 Q1898.1 1287.98 1902.34 1287.98 Q1904.79 1287.98 1907.08 1287.37 Q1909.4 1286.77 1911.67 1285.57 L1911.67 1289.6 Q1909.37 1290.57 1906.97 1291.08 Q1904.56 1291.59 1902.08 1291.59 Q1895.88 1291.59 1892.24 1287.98 Q1888.63 1284.36 1888.63 1278.21 Q1888.63 1271.84 1892.06 1268.11 Q1895.51 1264.36 1901.34 1264.36 Q1906.57 1264.36 1909.61 1267.74 Q1912.66 1271.1 1912.66 1276.89 M1908.4 1275.64 Q1908.36 1272.14 1906.43 1270.06 Q1904.54 1267.98 1901.39 1267.98 Q1897.82 1267.98 1895.67 1269.99 Q1893.54 1272 1893.22 1275.66 L1908.4 1275.64 Z\" fill=\"#000000\" fill-rule=\"nonzero\" fill-opacity=\"1\" /><path clip-path=\"url(#clip390)\" d=\"M1939.58 1260.2 L1939.58 1273.18 L1945.46 1273.18 Q1948.73 1273.18 1950.51 1271.49 Q1952.29 1269.8 1952.29 1266.68 Q1952.29 1263.58 1950.51 1261.89 Q1948.73 1260.2 1945.46 1260.2 L1939.58 1260.2 M1934.91 1256.36 L1945.46 1256.36 Q1951.27 1256.36 1954.23 1258.99 Q1957.22 1261.61 1957.22 1266.68 Q1957.22 1271.8 1954.23 1274.41 Q1951.27 1277.03 1945.46 1277.03 L1939.58 1277.03 L1939.58 1290.92 L1934.91 1290.92 L1934.91 1256.36 Z\" fill=\"#000000\" fill-rule=\"nonzero\" fill-opacity=\"1\" /><path clip-path=\"url(#clip390)\" d=\"M1971.67 1267.98 Q1968.24 1267.98 1966.25 1270.66 Q1964.26 1273.32 1964.26 1277.98 Q1964.26 1282.63 1966.23 1285.31 Q1968.22 1287.98 1971.67 1287.98 Q1975.07 1287.98 1977.06 1285.29 Q1979.05 1282.61 1979.05 1277.98 Q1979.05 1273.37 1977.06 1270.68 Q1975.07 1267.98 1971.67 1267.98 M1971.67 1264.36 Q1977.22 1264.36 1980.39 1267.98 Q1983.56 1271.59 1983.56 1277.98 Q1983.56 1284.34 1980.39 1287.98 Q1977.22 1291.59 1971.67 1291.59 Q1966.09 1291.59 1962.92 1287.98 Q1959.77 1284.34 1959.77 1277.98 Q1959.77 1271.59 1962.92 1267.98 Q1966.09 1264.36 1971.67 1264.36 Z\" fill=\"#000000\" fill-rule=\"nonzero\" fill-opacity=\"1\" /><path clip-path=\"url(#clip390)\" d=\"M2005.65 1268.97 Q2004.93 1268.55 2004.07 1268.37 Q2003.24 1268.16 2002.22 1268.16 Q1998.61 1268.16 1996.66 1270.52 Q1994.74 1272.86 1994.74 1277.26 L1994.74 1290.92 L1990.46 1290.92 L1990.46 1264.99 L1994.74 1264.99 L1994.74 1269.02 Q1996.09 1266.66 1998.24 1265.52 Q2000.39 1264.36 2003.47 1264.36 Q2003.91 1264.36 2004.44 1264.43 Q2004.98 1264.48 2005.62 1264.6 L2005.65 1268.97 Z\" fill=\"#000000\" fill-rule=\"nonzero\" fill-opacity=\"1\" /><path clip-path=\"url(#clip390)\" d=\"M2014.33 1257.63 L2014.33 1264.99 L2023.1 1264.99 L2023.1 1268.3 L2014.33 1268.3 L2014.33 1282.37 Q2014.33 1285.54 2015.18 1286.45 Q2016.06 1287.35 2018.72 1287.35 L2023.1 1287.35 L2023.1 1290.92 L2018.72 1290.92 Q2013.79 1290.92 2011.92 1289.09 Q2010.04 1287.23 2010.04 1282.37 L2010.04 1268.3 L2006.92 1268.3 L2006.92 1264.99 L2010.04 1264.99 L2010.04 1257.63 L2014.33 1257.63 Z\" fill=\"#000000\" fill-rule=\"nonzero\" fill-opacity=\"1\" /><path clip-path=\"url(#clip390)\" d=\"M2041.83 1254.9 L2041.83 1258.44 L2037.75 1258.44 Q2035.46 1258.44 2034.56 1259.36 Q2033.68 1260.29 2033.68 1262.7 L2033.68 1264.99 L2040.69 1264.99 L2040.69 1268.3 L2033.68 1268.3 L2033.68 1290.92 L2029.4 1290.92 L2029.4 1268.3 L2025.32 1268.3 L2025.32 1264.99 L2029.4 1264.99 L2029.4 1263.18 Q2029.4 1258.86 2031.41 1256.89 Q2033.42 1254.9 2037.8 1254.9 L2041.83 1254.9 Z\" fill=\"#000000\" fill-rule=\"nonzero\" fill-opacity=\"1\" /><path clip-path=\"url(#clip390)\" d=\"M2055.44 1267.98 Q2052.01 1267.98 2050.02 1270.66 Q2048.03 1273.32 2048.03 1277.98 Q2048.03 1282.63 2050 1285.31 Q2051.99 1287.98 2055.44 1287.98 Q2058.84 1287.98 2060.83 1285.29 Q2062.82 1282.61 2062.82 1277.98 Q2062.82 1273.37 2060.83 1270.68 Q2058.84 1267.98 2055.44 1267.98 M2055.44 1264.36 Q2060.99 1264.36 2064.16 1267.98 Q2067.34 1271.59 2067.34 1277.98 Q2067.34 1284.34 2064.16 1287.98 Q2060.99 1291.59 2055.44 1291.59 Q2049.86 1291.59 2046.69 1287.98 Q2043.54 1284.34 2043.54 1277.98 Q2043.54 1271.59 2046.69 1267.98 Q2049.86 1264.36 2055.44 1264.36 Z\" fill=\"#000000\" fill-rule=\"nonzero\" fill-opacity=\"1\" /><path clip-path=\"url(#clip390)\" d=\"M2074.4 1254.9 L2078.66 1254.9 L2078.66 1290.92 L2074.4 1290.92 L2074.4 1254.9 Z\" fill=\"#000000\" fill-rule=\"nonzero\" fill-opacity=\"1\" /><path clip-path=\"url(#clip390)\" d=\"M2087.57 1264.99 L2091.83 1264.99 L2091.83 1290.92 L2087.57 1290.92 L2087.57 1264.99 M2087.57 1254.9 L2091.83 1254.9 L2091.83 1260.29 L2087.57 1260.29 L2087.57 1254.9 Z\" fill=\"#000000\" fill-rule=\"nonzero\" fill-opacity=\"1\" /><path clip-path=\"url(#clip390)\" d=\"M2110.78 1267.98 Q2107.36 1267.98 2105.37 1270.66 Q2103.38 1273.32 2103.38 1277.98 Q2103.38 1282.63 2105.34 1285.31 Q2107.34 1287.98 2110.78 1287.98 Q2114.19 1287.98 2116.18 1285.29 Q2118.17 1282.61 2118.17 1277.98 Q2118.17 1273.37 2116.18 1270.68 Q2114.19 1267.98 2110.78 1267.98 M2110.78 1264.36 Q2116.34 1264.36 2119.51 1267.98 Q2122.68 1271.59 2122.68 1277.98 Q2122.68 1284.34 2119.51 1287.98 Q2116.34 1291.59 2110.78 1291.59 Q2105.21 1291.59 2102.03 1287.98 Q2098.89 1284.34 2098.89 1277.98 Q2098.89 1271.59 2102.03 1267.98 Q2105.21 1264.36 2110.78 1264.36 Z\" fill=\"#000000\" fill-rule=\"nonzero\" fill-opacity=\"1\" /><path clip-path=\"url(#clip390)\" d=\"M2155.04 1254.94 Q2151.94 1260.27 2150.44 1265.48 Q2148.93 1270.68 2148.93 1276.03 Q2148.93 1281.38 2150.44 1286.63 Q2151.96 1291.86 2155.04 1297.17 L2151.34 1297.17 Q2147.87 1291.73 2146.13 1286.47 Q2144.42 1281.22 2144.42 1276.03 Q2144.42 1270.87 2146.13 1265.64 Q2147.84 1260.41 2151.34 1254.94 L2155.04 1254.94 Z\" fill=\"#000000\" fill-rule=\"nonzero\" fill-opacity=\"1\" /><path clip-path=\"url(#clip390)\" d=\"M2184.21 1257.49 L2184.21 1262.05 Q2181.55 1260.78 2179.19 1260.15 Q2176.83 1259.53 2174.63 1259.53 Q2170.81 1259.53 2168.72 1261.01 Q2166.66 1262.49 2166.66 1265.22 Q2166.66 1267.51 2168.03 1268.69 Q2169.42 1269.85 2173.26 1270.57 L2176.09 1271.15 Q2181.32 1272.14 2183.79 1274.67 Q2186.29 1277.17 2186.29 1281.38 Q2186.29 1286.4 2182.91 1288.99 Q2179.56 1291.59 2173.05 1291.59 Q2170.6 1291.59 2167.82 1291.03 Q2165.07 1290.48 2162.1 1289.39 L2162.1 1284.57 Q2164.95 1286.17 2167.68 1286.98 Q2170.41 1287.79 2173.05 1287.79 Q2177.06 1287.79 2179.23 1286.22 Q2181.41 1284.64 2181.41 1281.73 Q2181.41 1279.18 2179.84 1277.74 Q2178.28 1276.31 2174.72 1275.59 L2171.87 1275.04 Q2166.64 1273.99 2164.3 1271.77 Q2161.96 1269.55 2161.96 1265.59 Q2161.96 1261.01 2165.18 1258.37 Q2168.42 1255.73 2174.09 1255.73 Q2176.53 1255.73 2179.05 1256.17 Q2181.57 1256.61 2184.21 1257.49 Z\" fill=\"#000000\" fill-rule=\"nonzero\" fill-opacity=\"1\" /><path clip-path=\"url(#clip390)\" d=\"M2198.26 1260.2 L2198.26 1273.18 L2204.14 1273.18 Q2207.4 1273.18 2209.19 1271.49 Q2210.97 1269.8 2210.97 1266.68 Q2210.97 1263.58 2209.19 1261.89 Q2207.4 1260.2 2204.14 1260.2 L2198.26 1260.2 M2193.59 1256.36 L2204.14 1256.36 Q2209.95 1256.36 2212.91 1258.99 Q2215.9 1261.61 2215.9 1266.68 Q2215.9 1271.8 2212.91 1274.41 Q2209.95 1277.03 2204.14 1277.03 L2198.26 1277.03 L2198.26 1290.92 L2193.59 1290.92 L2193.59 1256.36 Z\" fill=\"#000000\" fill-rule=\"nonzero\" fill-opacity=\"1\" /><path clip-path=\"url(#clip390)\" d=\"M2216.39 1256.36 L2221.41 1256.36 L2230.99 1270.57 L2240.51 1256.36 L2245.53 1256.36 L2233.31 1274.46 L2233.31 1290.92 L2228.61 1290.92 L2228.61 1274.46 L2216.39 1256.36 Z\" fill=\"#000000\" fill-rule=\"nonzero\" fill-opacity=\"1\" /><path clip-path=\"url(#clip390)\" d=\"M2249.23 1254.94 L2252.94 1254.94 Q2256.41 1260.41 2258.12 1265.64 Q2259.86 1270.87 2259.86 1276.03 Q2259.86 1281.22 2258.12 1286.47 Q2256.41 1291.73 2252.94 1297.17 L2249.23 1297.17 Q2252.31 1291.86 2253.82 1286.63 Q2255.34 1281.38 2255.34 1276.03 Q2255.34 1270.68 2253.82 1265.48 Q2252.31 1260.27 2249.23 1254.94 Z\" fill=\"#000000\" fill-rule=\"nonzero\" fill-opacity=\"1\" /><polyline clip-path=\"url(#clip390)\" style=\"stroke:#008000; stroke-linecap:round; stroke-linejoin:round; stroke-width:16; stroke-opacity:1; fill:none\" points=\"1492.89,1325.48 1632.24,1325.48 \"/>\n",
       "<path clip-path=\"url(#clip390)\" d=\"M1660.14 1312.04 L1660.14 1325.02 L1666.02 1325.02 Q1669.28 1325.02 1671.06 1323.33 Q1672.85 1321.64 1672.85 1318.52 Q1672.85 1315.42 1671.06 1313.73 Q1669.28 1312.04 1666.02 1312.04 L1660.14 1312.04 M1655.46 1308.2 L1666.02 1308.2 Q1671.83 1308.2 1674.79 1310.83 Q1677.78 1313.45 1677.78 1318.52 Q1677.78 1323.64 1674.79 1326.25 Q1671.83 1328.87 1666.02 1328.87 L1660.14 1328.87 L1660.14 1342.76 L1655.46 1342.76 L1655.46 1308.2 Z\" fill=\"#000000\" fill-rule=\"nonzero\" fill-opacity=\"1\" /><path clip-path=\"url(#clip390)\" d=\"M1698.06 1320.81 Q1697.34 1320.39 1696.48 1320.21 Q1695.65 1320 1694.63 1320 Q1691.02 1320 1689.07 1322.36 Q1687.15 1324.7 1687.15 1329.1 L1687.15 1342.76 L1682.87 1342.76 L1682.87 1316.83 L1687.15 1316.83 L1687.15 1320.86 Q1688.5 1318.5 1690.65 1317.36 Q1692.8 1316.2 1695.88 1316.2 Q1696.32 1316.2 1696.85 1316.27 Q1697.38 1316.32 1698.03 1316.44 L1698.06 1320.81 Z\" fill=\"#000000\" fill-rule=\"nonzero\" fill-opacity=\"1\" /><path clip-path=\"url(#clip390)\" d=\"M1702.52 1316.83 L1706.78 1316.83 L1706.78 1342.76 L1702.52 1342.76 L1702.52 1316.83 M1702.52 1306.74 L1706.78 1306.74 L1706.78 1312.13 L1702.52 1312.13 L1702.52 1306.74 Z\" fill=\"#000000\" fill-rule=\"nonzero\" fill-opacity=\"1\" /><path clip-path=\"url(#clip390)\" d=\"M1735.88 1321.81 Q1737.48 1318.94 1739.7 1317.57 Q1741.92 1316.2 1744.93 1316.2 Q1748.98 1316.2 1751.18 1319.05 Q1753.38 1321.88 1753.38 1327.11 L1753.38 1342.76 L1749.1 1342.76 L1749.1 1327.25 Q1749.1 1323.52 1747.78 1321.71 Q1746.46 1319.91 1743.75 1319.91 Q1740.44 1319.91 1738.52 1322.11 Q1736.6 1324.31 1736.6 1328.1 L1736.6 1342.76 L1732.31 1342.76 L1732.31 1327.25 Q1732.31 1323.5 1731 1321.71 Q1729.68 1319.91 1726.92 1319.91 Q1723.66 1319.91 1721.74 1322.13 Q1719.81 1324.33 1719.81 1328.1 L1719.81 1342.76 L1715.53 1342.76 L1715.53 1316.83 L1719.81 1316.83 L1719.81 1320.86 Q1721.27 1318.47 1723.31 1317.34 Q1725.35 1316.2 1728.15 1316.2 Q1730.97 1316.2 1732.94 1317.64 Q1734.93 1319.07 1735.88 1321.81 Z\" fill=\"#000000\" fill-rule=\"nonzero\" fill-opacity=\"1\" /><path clip-path=\"url(#clip390)\" d=\"M1773.66 1329.72 Q1768.49 1329.72 1766.5 1330.9 Q1764.51 1332.08 1764.51 1334.93 Q1764.51 1337.2 1765.99 1338.54 Q1767.5 1339.86 1770.07 1339.86 Q1773.61 1339.86 1775.74 1337.36 Q1777.89 1334.84 1777.89 1330.67 L1777.89 1329.72 L1773.66 1329.72 M1782.15 1327.96 L1782.15 1342.76 L1777.89 1342.76 L1777.89 1338.82 Q1776.43 1341.18 1774.26 1342.32 Q1772.08 1343.43 1768.93 1343.43 Q1764.95 1343.43 1762.59 1341.2 Q1760.25 1338.96 1760.25 1335.21 Q1760.25 1330.83 1763.17 1328.61 Q1766.11 1326.39 1771.92 1326.39 L1777.89 1326.39 L1777.89 1325.97 Q1777.89 1323.03 1775.95 1321.44 Q1774.03 1319.82 1770.53 1319.82 Q1768.31 1319.82 1766.2 1320.35 Q1764.1 1320.88 1762.15 1321.95 L1762.15 1318.01 Q1764.49 1317.11 1766.69 1316.67 Q1768.89 1316.2 1770.97 1316.2 Q1776.6 1316.2 1779.37 1319.12 Q1782.15 1322.04 1782.15 1327.96 Z\" fill=\"#000000\" fill-rule=\"nonzero\" fill-opacity=\"1\" /><path clip-path=\"url(#clip390)\" d=\"M1805.95 1320.81 Q1805.23 1320.39 1804.37 1320.21 Q1803.54 1320 1802.52 1320 Q1798.91 1320 1796.97 1322.36 Q1795.05 1324.7 1795.05 1329.1 L1795.05 1342.76 L1790.76 1342.76 L1790.76 1316.83 L1795.05 1316.83 L1795.05 1320.86 Q1796.39 1318.5 1798.54 1317.36 Q1800.69 1316.2 1803.77 1316.2 Q1804.21 1316.2 1804.74 1316.27 Q1805.28 1316.32 1805.93 1316.44 L1805.95 1320.81 Z\" fill=\"#000000\" fill-rule=\"nonzero\" fill-opacity=\"1\" /><path clip-path=\"url(#clip390)\" d=\"M1821.2 1345.16 Q1819.4 1349.79 1817.68 1351.2 Q1815.97 1352.62 1813.1 1352.62 L1809.7 1352.62 L1809.7 1349.05 L1812.2 1349.05 Q1813.96 1349.05 1814.93 1348.22 Q1815.9 1347.38 1817.08 1344.28 L1817.85 1342.34 L1807.36 1316.83 L1811.87 1316.83 L1819.98 1337.11 L1828.08 1316.83 L1832.59 1316.83 L1821.2 1345.16 Z\" fill=\"#000000\" fill-rule=\"nonzero\" fill-opacity=\"1\" /><path clip-path=\"url(#clip390)\" d=\"M1855.81 1313.03 L1855.81 1325.93 L1868.7 1325.93 L1868.7 1329.86 L1855.81 1329.86 L1855.81 1342.76 L1851.92 1342.76 L1851.92 1329.86 L1839.03 1329.86 L1839.03 1325.93 L1851.92 1325.93 L1851.92 1313.03 L1855.81 1313.03 Z\" fill=\"#000000\" fill-rule=\"nonzero\" fill-opacity=\"1\" /><path clip-path=\"url(#clip390)\" d=\"M1873.59 1308.2 L1902.82 1308.2 L1902.82 1312.13 L1890.55 1312.13 L1890.55 1342.76 L1885.86 1342.76 L1885.86 1312.13 L1873.59 1312.13 L1873.59 1308.2 Z\" fill=\"#000000\" fill-rule=\"nonzero\" fill-opacity=\"1\" /><path clip-path=\"url(#clip390)\" d=\"M1896.83 1316.83 L1901.09 1316.83 L1906.41 1337.06 L1911.71 1316.83 L1916.73 1316.83 L1922.06 1337.06 L1927.36 1316.83 L1931.62 1316.83 L1924.84 1342.76 L1919.81 1342.76 L1914.23 1321.51 L1908.63 1342.76 L1903.61 1342.76 L1896.83 1316.83 Z\" fill=\"#000000\" fill-rule=\"nonzero\" fill-opacity=\"1\" /><path clip-path=\"url(#clip390)\" d=\"M1938.08 1316.83 L1942.34 1316.83 L1942.34 1342.76 L1938.08 1342.76 L1938.08 1316.83 M1938.08 1306.74 L1942.34 1306.74 L1942.34 1312.13 L1938.08 1312.13 L1938.08 1306.74 Z\" fill=\"#000000\" fill-rule=\"nonzero\" fill-opacity=\"1\" /><path clip-path=\"url(#clip390)\" d=\"M1972.8 1327.11 L1972.8 1342.76 L1968.54 1342.76 L1968.54 1327.25 Q1968.54 1323.57 1967.1 1321.74 Q1965.67 1319.91 1962.8 1319.91 Q1959.35 1319.91 1957.36 1322.11 Q1955.37 1324.31 1955.37 1328.1 L1955.37 1342.76 L1951.09 1342.76 L1951.09 1316.83 L1955.37 1316.83 L1955.37 1320.86 Q1956.9 1318.52 1958.96 1317.36 Q1961.04 1316.2 1963.75 1316.2 Q1968.22 1316.2 1970.51 1318.98 Q1972.8 1321.74 1972.8 1327.11 Z\" fill=\"#000000\" fill-rule=\"nonzero\" fill-opacity=\"1\" /><path clip-path=\"url(#clip390)\" d=\"M1997.82 1317.59 L1997.82 1321.62 Q1996.02 1320.7 1994.07 1320.23 Q1992.13 1319.77 1990.04 1319.77 Q1986.87 1319.77 1985.28 1320.74 Q1983.7 1321.71 1983.7 1323.66 Q1983.7 1325.14 1984.84 1326 Q1985.97 1326.83 1989.4 1327.59 L1990.85 1327.92 Q1995.39 1328.89 1997.29 1330.67 Q1999.21 1332.43 1999.21 1335.6 Q1999.21 1339.21 1996.34 1341.32 Q1993.49 1343.43 1988.49 1343.43 Q1986.41 1343.43 1984.14 1343.01 Q1981.9 1342.62 1979.4 1341.81 L1979.4 1337.41 Q1981.76 1338.63 1984.05 1339.26 Q1986.34 1339.86 1988.59 1339.86 Q1991.6 1339.86 1993.22 1338.84 Q1994.84 1337.8 1994.84 1335.93 Q1994.84 1334.19 1993.66 1333.26 Q1992.5 1332.34 1988.54 1331.48 L1987.06 1331.14 Q1983.1 1330.3 1981.34 1328.59 Q1979.58 1326.85 1979.58 1323.84 Q1979.58 1320.19 1982.17 1318.2 Q1984.77 1316.2 1989.54 1316.2 Q1991.9 1316.2 1993.98 1316.55 Q1996.06 1316.9 1997.82 1317.59 Z\" fill=\"#000000\" fill-rule=\"nonzero\" fill-opacity=\"1\" /></svg>\n"
      ],
      "text/html": [
       "<img src=\"data:image/png;base64,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\" />"
      ]
     },
     "metadata": {},
     "output_type": "display_data"
    }
   ],
   "source": [
    "let\n",
    "\n",
    "    plot(1:maximum_number_trading_days, W₁, lw=4, xlabel=\"Trading Day Index (2025)\", \n",
    "        ylabel=\"Wealth Index (USD)\", fontsize=18, label=\"Primary Portfolio\", c=:red)\n",
    "\n",
    "    plot!(1:maximum_number_trading_days, Wₐ, lw=4, xlabel=\"Trading Day Index (2025)\", \n",
    "        ylabel=\"Wealth Index (USD)\", fontsize=18, label=\"Alternative Portfolio (SPY)\", c=:navy)\n",
    "\n",
    "    plot!(1:maximum_number_trading_days, W₂, lw=4, xlabel=\"Trading Day Index (2025)\", \n",
    "        ylabel=\"Wealth Index (USD)\", fontsize=18, label=\"Primary+Twins\", c=:green)\n",
    "\n",
    "\n",
    "    plot!(bg=\"gray95\", background_color_outside=\"white\", framestyle = :box, fg_legend = :transparent);\n",
    "end"
   ]
  },
  {
   "cell_type": "code",
   "execution_count": 37,
   "id": "3d40e5dd",
   "metadata": {},
   "outputs": [],
   "source": [
    "do_I_see_the_wealth_trajectory_plot = true; # set to {true | false} if you see the wealth trajectory plot   "
   ]
  },
  {
   "cell_type": "markdown",
   "id": "1d001d4a",
   "metadata": {},
   "source": [
    "### Discussion Question for Task 3\n",
    "\n",
    "__Question:__ Analyze the wealth trajectory plot above, which compares three investment strategies over the 2025 trading period:\n",
    "- Primary Portfolio (red): Uses only the original ticker list with SIM-based optimization\n",
    "- Primary+Twins Portfolio (green): Includes low-correlation twin assets for each primary ticker\n",
    "- Alternative Portfolio (navy): Simple buy-and-hold strategy with SPY (S&P 500 ETF)\n",
    "\n",
    "Based on the wealth trajectories shown:\n",
    "1. Which portfolio strategy achieved the highest terminal wealth by the end of the period?\n",
    "2. How do the volatility characteristics differ among the three strategies? Which appears most volatile?\n",
    "3. Given that all three portfolios started with the same initial investment of 1000 USD, what does this tell you about the practical value of adding low-correlation assets to reduce portfolio risk?\n",
    "4. Would you recommend the complexity of maintaining the Primary+Twins portfolio over the simpler SPY alternative? Justify your answer with specific observations from the wealth trajectories.\n",
    "\n",
    "Provide your detailed analysis below, referencing specific patterns or features from the plot to support your conclusions."
   ]
  },
  {
   "cell_type": "markdown",
   "id": "ca9a0b9c",
   "metadata": {},
   "source": [
    "__Answers here:__ Put your answers to the discussion questions for task 3 here."
   ]
  },
  {
   "cell_type": "code",
   "execution_count": 38,
   "id": "77c26c2a",
   "metadata": {},
   "outputs": [],
   "source": [
    "did_I_answer_the_discussion_questions_for_task_3 = true; # set to {true | false} if you answered the discussion question"
   ]
  },
  {
   "cell_type": "markdown",
   "id": "9555607d",
   "metadata": {},
   "source": [
    "___"
   ]
  },
  {
   "cell_type": "markdown",
   "id": "e1e11dfd",
   "metadata": {},
   "source": [
    "## Tests\n",
    "The code block below shows how we implemented the tests and what we are testing. In these tests, we check values in your notebook and give feedback on which items are correct, missing, etc."
   ]
  },
  {
   "cell_type": "code",
   "execution_count": 39,
   "id": "e24b8fb8",
   "metadata": {},
   "outputs": [
    {
     "name": "stdout",
     "output_type": "stream",
     "text": [
      "\u001b[0m\u001b[1mTest Summary:                      | \u001b[22m\u001b[32m\u001b[1mPass  \u001b[22m\u001b[39m\u001b[36m\u001b[1mTotal  \u001b[22m\u001b[39m\u001b[0m\u001b[1mTime\u001b[22m\n",
      "CHEME 5660 PS4 Test Suite          | \u001b[32m  75  \u001b[39m\u001b[36m   75  \u001b[39m\u001b[0m0.4s\n",
      "  Task 1: Risk and Return Matrices | \u001b[32m  24  \u001b[39m\u001b[36m   24  \u001b[39m\u001b[0m0.4s\n",
      "  Task 2: Efficient Frontiers      | \u001b[32m  19  \u001b[39m\u001b[36m   19  \u001b[39m\u001b[0m0.0s\n",
      "  Task 3: Portfolio Performance    | \u001b[32m  32  \u001b[39m\u001b[36m   32  \u001b[39m\u001b[0m0.0s\n",
      "\u001b[36m\u001b[1mTotal  \u001b[22m\u001b[39m\u001b[0m\u001b[1mTime\u001b[22m\n",
      "CHEME 5660 PS4 Test Suite          | \u001b[32m  75  \u001b[39m\u001b[36m   75  \u001b[39m\u001b[0m0.4s\n",
      "  Task 1: Risk and Return Matrices | \u001b[32m  24  \u001b[39m\u001b[36m   24  \u001b[39m\u001b[0m0.4s\n",
      "  Task 2: Efficient Frontiers      | \u001b[32m  19  \u001b[39m\u001b[36m   19  \u001b[39m\u001b[0m0.0s\n",
      "  Task 3: Portfolio Performance    | \u001b[32m  32  \u001b[39m\u001b[36m   32  \u001b[39m\u001b[0m0.0s\n"
     ]
    }
   ],
   "source": [
    "@testset verbose = true \"CHEME 5660 PS4 Test Suite\" begin\n",
    "\n",
    "    # Task 1: Risk and Return Matrices For Low Correlation Ticker Pairs\n",
    "    @testset \"Task 1: Risk and Return Matrices\" begin\n",
    "        @testset \"Primary Tickers\" begin\n",
    "            @test isdefined(Main, :my_primary_list_of_tickers)\n",
    "            @test typeof(my_primary_list_of_tickers) == Array{String,1}\n",
    "            @test length(my_primary_list_of_tickers) > 0\n",
    "        end\n",
    "\n",
    "        @testset \"Correlation Matrix\" begin\n",
    "            @test isdefined(Main, :CM)\n",
    "            @test typeof(CM) == Array{Float64,2}\n",
    "            @test size(CM, 1) == size(CM, 2) == length(list_of_tickers)\n",
    "        end\n",
    "\n",
    "        @testset \"Ticker Pairs\" begin\n",
    "            @test isdefined(Main, :my_list_of_ticker_pairs)\n",
    "            @test typeof(my_list_of_ticker_pairs) == Array{Tuple{String,String},1}\n",
    "            @test length(my_list_of_ticker_pairs) == length(my_primary_list_of_tickers)\n",
    "        end\n",
    "\n",
    "        @testset \"Twin Tickers\" begin\n",
    "            @test isdefined(Main, :my_list_of_twin_tickers)\n",
    "            @test typeof(my_list_of_twin_tickers) == Array{String,1}\n",
    "            @test length(my_list_of_twin_tickers) == 2 * length(my_primary_list_of_tickers)\n",
    "        end\n",
    "\n",
    "        @testset \"SIM Matrices Primary\" begin\n",
    "            @test isdefined(Main, :ĝ_sim_primary)\n",
    "            @test typeof(ĝ_sim_primary) == Array{Float64,1}\n",
    "            @test length(ĝ_sim_primary) == length(my_primary_list_of_tickers)\n",
    "            @test isdefined(Main, :Σ̂_sim_primary)\n",
    "            @test typeof(Σ̂_sim_primary) == Array{Float64,2}\n",
    "            @test size(Σ̂_sim_primary) == (length(my_primary_list_of_tickers), length(my_primary_list_of_tickers))\n",
    "        end\n",
    "\n",
    "        @testset \"SIM Matrices Twins\" begin\n",
    "            @test isdefined(Main, :ĝ_sim_twins)\n",
    "            @test typeof(ĝ_sim_twins) == Array{Float64,1}\n",
    "            @test length(ĝ_sim_twins) == length(my_list_of_twin_tickers)\n",
    "            @test isdefined(Main, :Σ̂_sim_twins)\n",
    "            @test typeof(Σ̂_sim_twins) == Array{Float64,2}\n",
    "            @test size(Σ̂_sim_twins) == (length(my_list_of_twin_tickers), length(my_list_of_twin_tickers))\n",
    "        end\n",
    "    end\n",
    "\n",
    "    # Task 2: Compute the efficient frontiers for your collection of tickers\n",
    "    @testset \"Task 2: Efficient Frontiers\" begin\n",
    "        @testset \"Markowitz Problems\" begin\n",
    "            @test isdefined(Main, :problem_sim_primary)\n",
    "            @test typeof(problem_sim_primary) == MyMarkowitzRiskyAssetOnlyPortfolioChoiceProblem\n",
    "            @test isdefined(Main, :problem_sim_twins)\n",
    "            @test typeof(problem_sim_twins) == MyMarkowitzRiskyAssetOnlyPortfolioChoiceProblem\n",
    "        end\n",
    "\n",
    "        @testset \"Reward Array\" begin\n",
    "            @test isdefined(Main, :minimum_desired_reward_array)\n",
    "            @test typeof(minimum_desired_reward_array) == Array{Float64,1}\n",
    "            @test length(minimum_desired_reward_array) == 301\n",
    "        end\n",
    "\n",
    "        @testset \"Efficient Frontiers\" begin\n",
    "            @test isdefined(Main, :efficient_frontier_sim_primary)\n",
    "            @test typeof(efficient_frontier_sim_primary) == Dict{Float64, NamedTuple}\n",
    "            @test length(efficient_frontier_sim_primary) > 0\n",
    "            @test isdefined(Main, :efficient_frontier_sim_twins)\n",
    "            @test typeof(efficient_frontier_sim_twins) == Dict{Float64, NamedTuple}\n",
    "            @test length(efficient_frontier_sim_twins) > 0\n",
    "        end\n",
    "\n",
    "        @testset \"Results Arrays\" begin\n",
    "            @test isdefined(Main, :results_array_sim_primary)\n",
    "            @test typeof(results_array_sim_primary) == Array{Float64,2}\n",
    "            @test size(results_array_sim_primary, 2) == length(my_primary_list_of_tickers) + 2\n",
    "            @test isdefined(Main, :results_array_sim_twins)\n",
    "            @test typeof(results_array_sim_twins) == Array{Float64,2}\n",
    "            @test size(results_array_sim_twins, 2) == length(my_list_of_twin_tickers) + 2\n",
    "        end\n",
    "    end\n",
    "\n",
    "    # Task 3: How do these portfolios perform?\n",
    "    @testset \"Task 3: Portfolio Performance\" begin\n",
    "        @testset \"Desired Growth Rate\" begin\n",
    "            @test isdefined(Main, :desired_growth_rate)\n",
    "            @test typeof(desired_growth_rate) == Float64\n",
    "            @test desired_growth_rate > 0\n",
    "        end\n",
    "\n",
    "        @testset \"Desired Solutions\" begin\n",
    "            @test isdefined(Main, :desired_solution_sim_primary)\n",
    "            @test typeof(desired_solution_sim_primary) == Dict{String, Any}\n",
    "            @test haskey(desired_solution_sim_primary, \"status\")\n",
    "            @test isdefined(Main, :desired_solution_sim_twins)\n",
    "            @test typeof(desired_solution_sim_twins) == Dict{String, Any}\n",
    "            @test haskey(desired_solution_sim_twins, \"status\")\n",
    "        end\n",
    "\n",
    "        @testset \"Shares\" begin\n",
    "            @test isdefined(Main, :n₁)\n",
    "            @test typeof(n₁) == Array{Float64,1}\n",
    "            @test length(n₁) == length(my_primary_list_of_tickers)\n",
    "            @test isdefined(Main, :n₂)\n",
    "            @test typeof(n₂) == Array{Float64,1}\n",
    "            @test length(n₂) == length(my_list_of_twin_tickers)\n",
    "            @test isdefined(Main, :n_alternative)\n",
    "            @test typeof(n_alternative) == Float64\n",
    "        end\n",
    "\n",
    "        @testset \"Wealth Trajectories\" begin\n",
    "            @test isdefined(Main, :W₁)\n",
    "            @test typeof(W₁) == Array{Float64,1}\n",
    "            @test length(W₁) == maximum_number_trading_days\n",
    "            @test isdefined(Main, :W₂)\n",
    "            @test typeof(W₂) == Array{Float64,1}\n",
    "            @test length(W₂) == maximum_number_trading_days\n",
    "            @test isdefined(Main, :Wₐ)\n",
    "            @test typeof(Wₐ) == Array{Float64,1}\n",
    "            @test length(Wₐ) == maximum_number_trading_days\n",
    "        end\n",
    "\n",
    "        @testset \"Discussion Question\" begin\n",
    "            @test isdefined(Main, :did_I_answer_the_discussion_questions_task_2)\n",
    "            @test did_I_answer_the_discussion_questions_task_2 == true\n",
    "            @test isdefined(Main, :did_I_answer_the_discussion_questions_for_task_3)\n",
    "            @test did_I_answer_the_discussion_questions_for_task_3 == true\n",
    "            @test isdefined(Main, :do_I_see_the_wealth_trajectory_plot)\n",
    "            @test do_I_see_the_wealth_trajectory_plot == true\n",
    "        end\n",
    "    end\n",
    "end;"
   ]
  },
  {
   "cell_type": "markdown",
   "id": "3c0258aa",
   "metadata": {},
   "source": [
    "___"
   ]
  },
  {
   "cell_type": "markdown",
   "id": "f5783b18-2f56-4641-9464-82658cc68a38",
   "metadata": {},
   "source": [
    "## Disclaimer and Risks\n",
    "__This content is offered solely for training and informational purposes__. No offer or solicitation to buy or sell securities or derivative products or any investment or trading advice or strategy is made, given, or endorsed by the teaching team. \n",
    "\n",
    "__Trading involves risk__. Carefully review your financial situation before investing in securities, futures contracts, options, or commodity interests. Past performance, whether actual or indicated by historical tests of strategies, is no guarantee of future performance or success. Trading is generally inappropriate for someone with limited resources, investment or trading experience, or a low-risk tolerance. Only risk capital that is not required for living expenses should be used.\n",
    "\n",
    "__You are fully responsible for any investment or trading decisions you make__. You should decide solely based on your financial circumstances, investment or trading objectives, risk tolerance, and liquidity needs."
   ]
  },
  {
   "cell_type": "markdown",
   "id": "31320f11",
   "metadata": {},
   "source": []
  }
 ],
 "metadata": {
  "kernelspec": {
   "display_name": "Julia 1.11.6",
   "language": "julia",
   "name": "julia-1.11"
  },
  "language_info": {
   "file_extension": ".jl",
   "mimetype": "application/julia",
   "name": "julia",
   "version": "1.12.1"
  }
 },
 "nbformat": 4,
 "nbformat_minor": 5
}
